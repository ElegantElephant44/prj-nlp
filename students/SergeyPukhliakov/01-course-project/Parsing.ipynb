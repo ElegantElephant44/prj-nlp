{
 "cells": [
  {
   "cell_type": "code",
   "execution_count": 682,
   "metadata": {},
   "outputs": [],
   "source": [
    "import json\n",
    "import requests\n",
    "from dateutil.parser import parse as parse_date\n",
    "import datetime\n",
    "import re\n",
    "import random\n",
    "from os import listdir\n",
    "from os.path import isfile, join\n",
    "import sys\n",
    "import chardet\n",
    "import html2text\n",
    "import email"
   ]
  },
  {
   "cell_type": "code",
   "execution_count": 173,
   "metadata": {},
   "outputs": [],
   "source": [
    "re_year = re.compile('[12][09][0-9]{2}')"
   ]
  },
  {
   "cell_type": "markdown",
   "metadata": {},
   "source": [
    "## Parsing email"
   ]
  },
  {
   "cell_type": "code",
   "execution_count": 594,
   "metadata": {},
   "outputs": [],
   "source": [
    "def html_to_text(html):\n",
    "    h = html2text.HTML2Text()\n",
    "    h.ignore_links = True\n",
    "    h.ignore_images = True\n",
    "    ret_val = h.handle(html)\n",
    "    return ret_val"
   ]
  },
  {
   "cell_type": "code",
   "execution_count": 593,
   "metadata": {},
   "outputs": [],
   "source": [
    "def parse_singlepart_text_message(msg):\n",
    "    if msg.is_multipart():\n",
    "        raise Exception(\"Cannot run function parse_singlepart_text_message on a multipart message.\")\n",
    "\n",
    "    if msg.get_content_type() in ['image/jpeg', 'image/png']:\n",
    "        return \"\"\n",
    "\n",
    "    charset = msg.get_content_charset()\n",
    "    if charset is None:\n",
    "        charset = 'utf8'\n",
    "    text = ''\n",
    "    if msg.get_content_type() == 'text/plain':\n",
    "        text = str(msg.get_payload(decode=True), str(charset), \"ignore\")\n",
    "    elif msg.get_content_type() == 'text/html':\n",
    "        html = str(msg.get_payload(decode=True), str(charset), \"ignore\")\n",
    "        text = html_to_text(html.strip())\n",
    "    return text.strip()"
   ]
  },
  {
   "cell_type": "code",
   "execution_count": 684,
   "metadata": {},
   "outputs": [],
   "source": [
    "def get_text(email_object):\n",
    "    msg = email_object\n",
    "    content_type = msg.get_content_type()\n",
    "    payload = msg.get_payload()\n",
    "\n",
    "    if msg.is_multipart() and content_type == 'multipart/mixed' or content_type == 'multipart/related':\n",
    "        text = \"\"\n",
    "        for part in payload:\n",
    "            text += get_text(part)\n",
    "        return text\n",
    "    elif msg.is_multipart() and content_type == 'multipart/alternative':\n",
    "        content_types = [x.get_content_type() for x in payload]\n",
    "        if sorted(content_types) == ['text/html']:\n",
    "            html = payload[0]\n",
    "            return parse_singlepart_text_message(html)\n",
    "        if sorted(content_types) == ['text/html', 'text/plain']:\n",
    "            html = list(filter(lambda x: x.get_content_type() == \"text/html\", payload))[0]\n",
    "            return parse_singlepart_text_message(html)\n",
    "        elif sorted(content_types) == ['multipart/related', 'text/plain']:\n",
    "            multi = list(filter(lambda x: x.get_content_type() == \"multipart/related\", payload))[0]\n",
    "            return get_text(multi)\n",
    "        else:\n",
    "            return \"\"\n",
    "    elif not msg.is_multipart():\n",
    "        return parse_singlepart_text_message(msg)\n",
    "    else:\n",
    "        raise Exception(\"haven't accounted for this content type \" + content_type)"
   ]
  },
  {
   "cell_type": "code",
   "execution_count": 676,
   "metadata": {},
   "outputs": [],
   "source": [
    "def structurize(email):\n",
    "    return {\n",
    "            \"date\": email['date'],\n",
    "            \"subject\": email['subject'],\n",
    "            \"payload\": re.sub(\"[\\n\\r\\t]{1,}\", \"\\n\", get_text(email))\n",
    "            }"
   ]
  },
  {
   "cell_type": "markdown",
   "metadata": {},
   "source": [
    "## Read file"
   ]
  },
  {
   "cell_type": "code",
   "execution_count": 174,
   "metadata": {},
   "outputs": [],
   "source": [
    "def read_json_file(fname):\n",
    "    with open(fname,\"r\", encoding='utf-8') as f:\n",
    "        content = f.read()\n",
    "    return json.loads(content)\n",
    "def dump_as_json(data, filename):\n",
    "    with open(filename, 'w') as f:\n",
    "        f.write(json.dumps(data, sort_keys=False , indent=4))"
   ]
  },
  {
   "cell_type": "code",
   "execution_count": 360,
   "metadata": {},
   "outputs": [],
   "source": [
    "train = read_json_file('train_without_durations.json')\n",
    "test = read_json_file('test_without_durations.json')"
   ]
  },
  {
   "cell_type": "markdown",
   "metadata": {},
   "source": [
    "## Duckling"
   ]
  },
  {
   "cell_type": "code",
   "execution_count": 172,
   "metadata": {},
   "outputs": [],
   "source": [
    "duckling_url = 'http://192.168.99.100:8000/parse'\n",
    "headers = {'content-type': 'application/x-www-form-urlencoded'}"
   ]
  },
  {
   "cell_type": "code",
   "execution_count": 529,
   "metadata": {},
   "outputs": [],
   "source": [
    "def filter_node(node):\n",
    "    return node['dim'] in ['time', 'duration'] and node['body'] not in ['summer', 'now']\n",
    "\n",
    "def subj_payload_to_text(email):\n",
    "    return re.sub(\"[\\n\\s]{1,}\", \" \", (email['subject']+ '\\n' + email['payload']));"
   ]
  },
  {
   "cell_type": "code",
   "execution_count": 596,
   "metadata": {},
   "outputs": [],
   "source": [
    "def duckle_it(email):\n",
    "    sent_date = parse_date(email['date'])\n",
    "    if sent_date.hour > 12 and sent_date.tzinfo != None:\n",
    "        sent_date = sent_date.replace(hour = sent_date.hour - 12)\n",
    "    timestamp = int(sent_date.timestamp() * 1000)\n",
    "    payload = {'reftime':timestamp, 'text': subj_payload_to_text(email)}\n",
    "    r = requests.post(duckling_url, data = payload, headers=headers)\n",
    "    return  list(filter(filter_node, [x for x in r.json()]))"
   ]
  },
  {
   "cell_type": "code",
   "execution_count": 597,
   "metadata": {},
   "outputs": [
    {
     "data": {
      "text/plain": [
       "[{'body': 'Wednesday August 15, 2001',\n",
       "  'start': 99,\n",
       "  'value': {'values': [{'value': '2001-08-15T00:00:00.000-07:00',\n",
       "     'grain': 'day',\n",
       "     'type': 'value'}],\n",
       "   'value': '2001-08-15T00:00:00.000-07:00',\n",
       "   'grain': 'day',\n",
       "   'type': 'value'},\n",
       "  'end': 124,\n",
       "  'dim': 'time',\n",
       "  'latent': False},\n",
       " {'body': '3:00pm - 4:00pm',\n",
       "  'start': 131,\n",
       "  'value': {'values': [{'to': {'value': '2001-08-06T16:01:00.000-07:00',\n",
       "      'grain': 'minute'},\n",
       "     'from': {'value': '2001-08-06T15:00:00.000-07:00', 'grain': 'minute'},\n",
       "     'type': 'interval'},\n",
       "    {'to': {'value': '2001-08-07T16:01:00.000-07:00', 'grain': 'minute'},\n",
       "     'from': {'value': '2001-08-07T15:00:00.000-07:00', 'grain': 'minute'},\n",
       "     'type': 'interval'},\n",
       "    {'to': {'value': '2001-08-08T16:01:00.000-07:00', 'grain': 'minute'},\n",
       "     'from': {'value': '2001-08-08T15:00:00.000-07:00', 'grain': 'minute'},\n",
       "     'type': 'interval'}],\n",
       "   'to': {'value': '2001-08-06T16:01:00.000-07:00', 'grain': 'minute'},\n",
       "   'from': {'value': '2001-08-06T15:00:00.000-07:00', 'grain': 'minute'},\n",
       "   'type': 'interval'},\n",
       "  'end': 146,\n",
       "  'dim': 'time',\n",
       "  'latent': False}]"
      ]
     },
     "execution_count": 597,
     "metadata": {},
     "output_type": "execute_result"
    }
   ],
   "source": [
    "duckle_it(train[0]['email'])"
   ]
  },
  {
   "cell_type": "code",
   "execution_count": 728,
   "metadata": {},
   "outputs": [],
   "source": [
    "class Date_interval:\n",
    "    def __init__(self, start_date, end_date, start_pos, end_pos, grain):\n",
    "        self.start_date = start_date\n",
    "        self.end_date = end_date\n",
    "        self.start_pos = start_pos\n",
    "        self.end_pos = end_pos\n",
    "        self.grain = grain\n",
    "    \n",
    "    def can_be_replaced(self, interval):        \n",
    "        if(self.start_date.date() != interval.start_date.date()):\n",
    "            return False\n",
    "        if(self.end_date.date() != interval.end_date.date()):\n",
    "            return False\n",
    "        if(self.grain in ['day', 'year', 'month'] and interval.grain in ['minute','hour']):\n",
    "            return True\n",
    "        return False\n",
    "    \n",
    "    def print_self(self):\n",
    "        print(\"Start: \" + str(self.start_date))\n",
    "        print(\"End: \" + str(self.end_date))\n",
    "        print(\"[\"+str(self.start_pos)+', '+str(self.end_pos) + ']')\n",
    "        print(\"Grain:\" + self.grain)\n",
    "        \n",
    "class Location:\n",
    "    def __init__(self, loc, start_pos, end_pos):\n",
    "        self.text = loc        \n",
    "        self.start_pos = start_pos\n",
    "        self.end_pos = end_pos\n",
    "    \n",
    "    def print_self(self):\n",
    "        print(\"Location: \" + str(self.text))"
   ]
  },
  {
   "cell_type": "markdown",
   "metadata": {},
   "source": [
    "## Spacy model updating for location parsing"
   ]
  },
  {
   "cell_type": "code",
   "execution_count": 26,
   "metadata": {},
   "outputs": [],
   "source": [
    "import spacy\n",
    "nlp = spacy.load('en_core_web_md')"
   ]
  },
  {
   "cell_type": "code",
   "execution_count": 44,
   "metadata": {},
   "outputs": [],
   "source": [
    "def meetings_contains_loc(d):\n",
    "    for m in d['meetings']:\n",
    "        if (m['loc']!=''):\n",
    "            return True\n",
    "    return False"
   ]
  },
  {
   "cell_type": "code",
   "execution_count": 161,
   "metadata": {},
   "outputs": [],
   "source": [
    "with_loc = list(filter(meetings_contains_loc, [d for d in train]))"
   ]
  },
  {
   "cell_type": "code",
   "execution_count": 162,
   "metadata": {},
   "outputs": [],
   "source": [
    "def annotate_loc(d):\n",
    "    subj_payload =  re.sub(\"[\\n\\s]{1,}\", \" \", (d['email']['subject']+ '\\n' + d['email']['payload']))\n",
    "    anno = []    \n",
    "    for m in d['meetings']:        \n",
    "        start_ind = subj_payload.find(m['loc'])\n",
    "        if start_ind == -1:\n",
    "            print(m['loc'])\n",
    "            continue\n",
    "        end_ind = start_ind + len(m['loc'])\n",
    "        anno.append((start_ind, end_ind, 'LOC'))\n",
    "    return (subj_payload, {'entities':anno})"
   ]
  },
  {
   "cell_type": "code",
   "execution_count": 163,
   "metadata": {},
   "outputs": [
    {
     "name": "stdout",
     "output_type": "stream",
     "text": [
      "Plaza Club, 910 Louisiana, Solarium Room\n"
     ]
    }
   ],
   "source": [
    "train_data = list(map(annotate_loc, with_loc))"
   ]
  },
  {
   "cell_type": "code",
   "execution_count": 103,
   "metadata": {},
   "outputs": [],
   "source": [
    "with nlp.disable_pipes(*[pipe for pipe in nlp.pipe_names if pipe != 'ner']):\n",
    "    optimizer = nlp.begin_training()\n",
    "    for i in range(10):\n",
    "        random.shuffle(train_data)\n",
    "        for text, annotations in train_data:\n",
    "            nlp.update([text], [annotations], sgd=optimizer)"
   ]
  },
  {
   "cell_type": "code",
   "execution_count": 104,
   "metadata": {},
   "outputs": [],
   "source": [
    "nlp.to_disk('/model')"
   ]
  },
  {
   "cell_type": "markdown",
   "metadata": {},
   "source": [
    "## Parsing dates"
   ]
  },
  {
   "cell_type": "code",
   "execution_count": 205,
   "metadata": {},
   "outputs": [],
   "source": [
    "def update_date(node, check_date, sent_date, previous_dates):\n",
    "    if check_date.date() == sent_date.date() and 'today' not in node['body'].lower() and len(previous_dates) > 0:\n",
    "        return previous_dates[-1].replace(hour = check_date.hour, minute = check_date.minute, second = check_date.second)        \n",
    "    return check_date"
   ]
  },
  {
   "cell_type": "code",
   "execution_count": 214,
   "metadata": {},
   "outputs": [],
   "source": [
    "def default_offset(date):\n",
    "    return date + datetime.timedelta(minutes=60)"
   ]
  },
  {
   "cell_type": "code",
   "execution_count": 671,
   "metadata": {},
   "outputs": [],
   "source": [
    "def process_date_node(node, previous_dates, sent_date):\n",
    "    node_value = node['value']\n",
    "    if (node_value['type'] == 'value'):  \n",
    "        parsed = parse_date(node_value['value'])\n",
    "        parsed = update_date(node, parsed, sent_date, previous_dates)\n",
    "        return Date_interval(parsed, None, node['start'] ,node['end'], node_value['grain'])\n",
    "    if (node_value['type'] == 'interval'):\n",
    "        from_value = node_value.get('from')\n",
    "        if from_value == None:\n",
    "            return Date_interval(None,None,node['start'] ,node['end'], None)\n",
    "        from_parsed = parse_date(node_value['from']['value'])\n",
    "        to_parsed = None\n",
    "        to_value = node_value.get('to')\n",
    "        if to_value != None:\n",
    "            to_parsed = update_date(node, parse_date(to_value['value']), sent_date, previous_dates)\n",
    "            if to_parsed.minute % 5 != 0:\n",
    "                to_parsed = to_parsed - datetime.timedelta(minutes = 1)\n",
    "        from_parsed = update_date(node, from_parsed, sent_date, previous_dates)        \n",
    "        return Date_interval(from_parsed, to_parsed, node['start'], node['end'], from_value['grain'])\n",
    "    raise Exception(\"Unexpected type\" + node_value['type'])"
   ]
  },
  {
   "cell_type": "code",
   "execution_count": 669,
   "metadata": {},
   "outputs": [],
   "source": [
    "def process_duration_node(node, previous_dates, sent_date):\n",
    "    date = previous_dates[-1] if len(previous_dates) != 0 else sent_date\n",
    "    delta = datetime.timedelta(seconds = node['value']['normalized']['value'])\n",
    "    return Date_interval(date, date+delta, node['start'], node['end'], node['value']['unit'])"
   ]
  },
  {
   "cell_type": "code",
   "execution_count": 723,
   "metadata": {},
   "outputs": [],
   "source": [
    "def filter_redundant_intervals(intervals):\n",
    "    results = []\n",
    "    for ind,interv in enumerate(intervals):\n",
    "        if len(results) != 0:\n",
    "            if interv.start_date == results[-1].start_date and interv.end_date == results[-1].end_date:\n",
    "                continue\n",
    "            if results[-1].can_be_replaced(interv):\n",
    "                results[-1] = interv\n",
    "                continue\n",
    "            if interv.can_be_replaced(results[-1]):                \n",
    "                continue\n",
    "        results.append(interv)\n",
    "    return results"
   ]
  },
  {
   "cell_type": "code",
   "execution_count": 647,
   "metadata": {},
   "outputs": [],
   "source": [
    "def get_intervals(email):\n",
    "    nodes = duckle_it(email)\n",
    "    dates = []\n",
    "    intervals = []\n",
    "    durations = []\n",
    "    sent_date = parse_date(email['date'])\n",
    "    for node in nodes:\n",
    "        if node['dim'] == 'duration':\n",
    "            durations.append(node)\n",
    "        elif node['dim'] == 'time':\n",
    "            interval = process_date_node(node, dates, sent_date)\n",
    "            if interval.start_date == None:\n",
    "                continue\n",
    "            interval.start_date = interval.start_date.replace(tzinfo = sent_date.tzinfo)\n",
    "            if (interval.start_date.hour < 7):\n",
    "                interval.start_date = interval.start_date.replace(hour = interval.start_date.hour + 12)\n",
    "            if (interval.start_date < sent_date):\n",
    "                continue\n",
    "            dates.append(interval.start_date)\n",
    "            if interval.end_date == None:\n",
    "                interval.end_date = default_offset(interval.start_date)\n",
    "            else:\n",
    "                if (interval.end_date.hour < 7):\n",
    "                    interval.end_date = interval.end_date.replace(hour = interval.end_date.hour + 12)\n",
    "            intervals.append(interval)\n",
    "    intervals += [process_duration_node(n, dates, sent_date) for n in durations]\n",
    "    intervals = filter_redundant_intervals(intervals)\n",
    "    for interv in intervals:\n",
    "        interv.start_date = interv.start_date.replace(tzinfo = sent_date.tzinfo)\n",
    "        interv.end_date = interv.end_date.replace(tzinfo = sent_date.tzinfo)\n",
    "    return intervals"
   ]
  },
  {
   "cell_type": "code",
   "execution_count": 601,
   "metadata": {},
   "outputs": [
    {
     "name": "stdout",
     "output_type": "stream",
     "text": [
      "Start: 2001-08-15 12:00:00-07:00\n",
      "End: 2001-08-15 13:00:00-07:00\n",
      "[99, 124]\n",
      "Start: 2001-08-15 15:00:00-07:00\n",
      "End: 2001-08-15 16:00:00-07:00\n",
      "[131, 146]\n"
     ]
    }
   ],
   "source": [
    "for x in get_intervals(train[0]['email']):\n",
    "    x.print_self()"
   ]
  },
  {
   "cell_type": "markdown",
   "metadata": {},
   "source": [
    "## Parsing locations "
   ]
  },
  {
   "cell_type": "code",
   "execution_count": 567,
   "metadata": {},
   "outputs": [],
   "source": [
    "def parse_locs(email):\n",
    "    subj_payload = subj_payload_to_text(email)    \n",
    "    doc = nlp(subj_payload)\n",
    "    return [Location(x.text,x.start_char,x.end_char) for x in doc.ents if x.label_=='LOC']"
   ]
  },
  {
   "cell_type": "code",
   "execution_count": 563,
   "metadata": {},
   "outputs": [],
   "source": [
    "def get_closest_loc(interval, locs):\n",
    "    if len(locs) == 0: return None\n",
    "    interval_mid_pos = (interval.start_pos + interval.end_pos)/2\n",
    "    closestLoc = locs[0]\n",
    "    min_distance = abs(interval_mid_pos - (closestLoc.start_pos + closestLoc.end_pos)/2)\n",
    "    for l in locs:\n",
    "        distance = abs(interval_mid_pos - (l.start_pos + l.end_pos)/2)\n",
    "        if distance < min_distance:\n",
    "            closestLoc = l\n",
    "            min_distance = distance\n",
    "    return closestLoc"
   ]
  },
  {
   "cell_type": "markdown",
   "metadata": {},
   "source": [
    "## Evaluation"
   ]
  },
  {
   "cell_type": "code",
   "execution_count": 611,
   "metadata": {},
   "outputs": [],
   "source": [
    "def evaluation(data):\n",
    "    right_date_count = 0\n",
    "    all_date_count = 0    \n",
    "    right_subj_count = 0\n",
    "    all_subj_count = 0\n",
    "    right_loc_count = 0\n",
    "    all_loc_count = 0\n",
    "    ind = 0\n",
    "    for d in data:\n",
    "        email = d['email']\n",
    "        intervals = get_intervals(email)\n",
    "        parsed_subj = email['subject']\n",
    "        parsed_locs = parse_locs(email)\n",
    "        meetings = d['meetings']\n",
    "        for m in meetings:\n",
    "            sent_date = parse_date(email['date'])\n",
    "            d_start = parse_date(m['start']).replace(tzinfo = sent_date.tzinfo)        \n",
    "            d_end = parse_date(m['end']).replace(tzinfo = sent_date.tzinfo)\n",
    "            interv = (d_start,d_end)\n",
    "            if interv in [(x.start_date,x.end_date) for x in intervals]:\n",
    "                right_date_count += 1\n",
    "            if m['subj'] in parsed_subj:\n",
    "                right_subj_count += 1\n",
    "            if m['loc'] != '':\n",
    "                if m['loc'] in [l.text for l in parsed_locs]:\n",
    "                    right_loc_count +=1\n",
    "                all_loc_count +=1\n",
    "            all_date_count += 1\n",
    "            all_subj_count += 1        \n",
    "    \n",
    "    print('Dates recall: ' + str(right_date_count/all_date_count*100))\n",
    "    print('Subj recall: ' + str(right_subj_count/all_subj_count*100))\n",
    "    print('Locs recall: ' + str(right_loc_count/all_loc_count*100))"
   ]
  },
  {
   "cell_type": "code",
   "execution_count": 724,
   "metadata": {},
   "outputs": [
    {
     "name": "stdout",
     "output_type": "stream",
     "text": [
      "Dates recall: 91.30434782608695\n",
      "Subj recall: 78.26086956521739\n",
      "Locs recall: 89.04109589041096\n"
     ]
    }
   ],
   "source": [
    "evaluation(train)"
   ]
  },
  {
   "cell_type": "code",
   "execution_count": 725,
   "metadata": {},
   "outputs": [
    {
     "name": "stdout",
     "output_type": "stream",
     "text": [
      "Dates recall: 100.0\n",
      "Subj recall: 78.125\n",
      "Locs recall: 64.0\n"
     ]
    }
   ],
   "source": [
    "evaluation(test)"
   ]
  },
  {
   "cell_type": "code",
   "execution_count": 615,
   "metadata": {},
   "outputs": [],
   "source": [
    "def parse(email):    \n",
    "    intervals = get_intervals(email)\n",
    "    parsed_subj = email['subject']\n",
    "    parsed_locs = parse_locs(email)\n",
    "    meetings = []\n",
    "    for interv in intervals:\n",
    "        loc = get_closest_loc(interv, parsed_locs)\n",
    "        meetings.append({\n",
    "                \"subj\": parsed_subj,\n",
    "                \"time_interv\" : interv,\n",
    "                \"loc\": loc\n",
    "        })\n",
    "    return meetings"
   ]
  },
  {
   "cell_type": "code",
   "execution_count": 635,
   "metadata": {},
   "outputs": [],
   "source": [
    "def full_check(emails):\n",
    "    current_score = 0\n",
    "    max_score = 0\n",
    "    ind = 0\n",
    "    for email in emails:\n",
    "        parsed_meetings = parse(email['email'])\n",
    "        ind +=1\n",
    "        for m in email['meetings']:\n",
    "            score = 0\n",
    "            for parsed_m in parsed_meetings:\n",
    "                if parse_date(m['start']) == parsed_m['time_interv'].start_date.replace(tzinfo = None) \\\n",
    "                    and parse_date(m['end']) == parsed_m['time_interv'].end_date.replace(tzinfo = None):\n",
    "                    score += 0.65\n",
    "                    score += 0.2 if m['subj'] in parsed_m['subj'] else 0\n",
    "                    score += 0.15 if m['loc'] == '' or (parsed_m['loc'] != None and m['loc'] == parsed_m['loc'].text) else 0\n",
    "                    break\n",
    "            current_score += score                      \n",
    "            max_score += 1        \n",
    "    \n",
    "    print('Recall: ' + str(current_score/max_score*100))"
   ]
  },
  {
   "cell_type": "code",
   "execution_count": 674,
   "metadata": {},
   "outputs": [
    {
     "name": "stdout",
     "output_type": "stream",
     "text": [
      "Recall: 86.25\n"
     ]
    }
   ],
   "source": [
    "full_check(train)"
   ]
  },
  {
   "cell_type": "code",
   "execution_count": 675,
   "metadata": {},
   "outputs": [
    {
     "name": "stdout",
     "output_type": "stream",
     "text": [
      "Recall: 91.40625000000003\n"
     ]
    }
   ],
   "source": [
    "full_check(test)"
   ]
  },
  {
   "cell_type": "code",
   "execution_count": 711,
   "metadata": {},
   "outputs": [],
   "source": [
    "def demo_print(email):\n",
    "    print(email['subject'])\n",
    "    print(email['payload'])\n",
    "    print()\n",
    "    print(\"PARSED\")\n",
    "    print(\"###############\")\n",
    "    for m in parse(email):\n",
    "        print(\"Subject: \" + m['subj'])\n",
    "        m['time_interv'].print_self()\n",
    "        m['loc'].print_self()\n",
    "        print()"
   ]
  },
  {
   "cell_type": "code",
   "execution_count": 697,
   "metadata": {},
   "outputs": [],
   "source": [
    "def process_from_file(fname):\n",
    "    with open(fname, encoding='utf-8') as f:\n",
    "        content = f.read()\n",
    "    print(content)\n",
    "    return structurize(email.message_from_string(content))"
   ]
  },
  {
   "cell_type": "code",
   "execution_count": 731,
   "metadata": {
    "scrolled": true
   },
   "outputs": [
    {
     "name": "stdout",
     "output_type": "stream",
     "text": [
      "Delivered-To: sergeypuhl1995@gmail.com\n",
      "Received: by 2002:a4f:8541:0:0:0:0:0 with SMTP id h62-v6csp1330116ivd;\n",
      "        Wed, 23 May 2018 13:04:40 -0700 (PDT)\n",
      "X-Google-Smtp-Source: AB8JxZr94kbXxJ84NLyJ6fo6q6pcXF1BPdJ4cZBgui0j+mKXw8zgrl2ssV9PkWcd4m8ULttL8Ina\n",
      "X-Received: by 2002:a17:902:a60d:: with SMTP id u13-v6mr4326109plq.40.1527105880388;\n",
      "        Wed, 23 May 2018 13:04:40 -0700 (PDT)\n",
      "ARC-Seal: i=1; a=rsa-sha256; t=1527105880; cv=none;\n",
      "        d=google.com; s=arc-20160816;\n",
      "        b=MRjp/hwHOjbheVu8/2hoUKfucqPJHbipq1gsDKsPcO8N/Uf4oqiCwcL9lrX8Lna8fP\n",
      "         krL2n6zY+MCmnoFPAlnXhgmUbz9BOLfse4oHJoL436hsfCTyugH2/TDPLWan7mhg9eAo\n",
      "         PUITdc5+/LB5gFBVxOlmlCQfQX03sRuxtFoEBygyCFYBRRM8fjUlA7OR69NDGa9t8E7S\n",
      "         0pGj3fFL2cK13ggAH8JYuLtFnBmotPkTLP5kIr4yXg4fEquiVsQevL7ozVUV9Q1rV49s\n",
      "         orDSCGFYUjJlZbgiihuvpzd7rzUX9eagPRjrktBR8Mf+99XrQwJW4ruGUuBPZmQtV9S0\n",
      "         ueWw==\n",
      "ARC-Message-Signature: i=1; a=rsa-sha256; c=relaxed/relaxed; d=google.com; s=arc-20160816;\n",
      "        h=mime-version:spamdiagnosticmetadata:spamdiagnosticoutput\n",
      "         :content-language:accept-language:message-id:date:thread-index\n",
      "         :thread-topic:subject:to:from:dkim-signature\n",
      "         :arc-authentication-results;\n",
      "        bh=OfH4p0C6b/sMHURO6xwsmSo6Ygd/0yD8fwWLoMo5www=;\n",
      "        b=GAs9bqLpDeKylCJREKyzq4iboOYlgB+ApCR2dPwiUUgMjXKBmdM4NnDvSgvODXE9ny\n",
      "         wBvEi7qmPjl3I4LvFv7fovmGdapT2OaxrvqDEDIcqVTv+vGweKvgW+bc9L/oiviIfeWf\n",
      "         VaBuVyhG/RuHCD1bYS2FAMne9CJh7Nt7RQqK8h7ovY10QKy8TovX51sMOHh35uia4G9O\n",
      "         5hCfqUYur3ZcT/XXfNwgITjCie2iTUMQtV0wtuskRRgudKP2Co9OCRT4UlG68q9uOkVJ\n",
      "         pMnSDgDl0pJThQDsa75Q1r3mN/0peM/ENr54IWJdcDl4ms0YzLosSeuSVM090MXi77X+\n",
      "         x/7A==\n",
      "ARC-Authentication-Results: i=1; mx.google.com;\n",
      "       dkim=pass header.i=@intetics.onmicrosoft.com header.s=selector1-intetics-com header.b=RP4o+o4r;\n",
      "       spf=pass (google.com: domain of e.kozlova@intetics.com designates 104.47.41.41 as permitted sender) smtp.mailfrom=e.kozlova@intetics.com\n",
      "Return-Path: <e.kozlova@intetics.com>\n",
      "Received: from NAM03-DM3-obe.outbound.protection.outlook.com (mail-dm3nam03on0041.outbound.protection.outlook.com. [104.47.41.41])\n",
      "        by mx.google.com with ESMTPS id y11-v6si19387706plg.376.2018.05.23.13.04.39\n",
      "        (version=TLS1_2 cipher=ECDHE-RSA-AES128-SHA bits=128/128);\n",
      "        Wed, 23 May 2018 13:04:40 -0700 (PDT)\n",
      "Received-SPF: pass (google.com: domain of e.kozlova@intetics.com designates 104.47.41.41 as permitted sender) client-ip=104.47.41.41;\n",
      "Authentication-Results: mx.google.com;\n",
      "       dkim=pass header.i=@intetics.onmicrosoft.com header.s=selector1-intetics-com header.b=RP4o+o4r;\n",
      "       spf=pass (google.com: domain of e.kozlova@intetics.com designates 104.47.41.41 as permitted sender) smtp.mailfrom=e.kozlova@intetics.com\n",
      "DKIM-Signature: v=1; a=rsa-sha256; c=relaxed/relaxed;\n",
      " d=intetics.onmicrosoft.com; s=selector1-intetics-com;\n",
      " h=From:Date:Subject:Message-ID:Content-Type:MIME-Version:X-MS-Exchange-SenderADCheck;\n",
      " bh=OfH4p0C6b/sMHURO6xwsmSo6Ygd/0yD8fwWLoMo5www=;\n",
      " b=RP4o+o4rQDt/MZt3L8tmDA0FBv/qdBv/tE8RXmODRn3/UZV9dy0Bec09TlOveczrxYxau0V285kI4doxZko+LL9VwY5T9YOVgNKbOIiNo58tiSWoUf9mGAFXv6oqQCK6iRuoaZa0XGTg2E7PqdpuLsFccDctCch1ka2EcUykfXs=\n",
      "Received: from DM5PR1401MB2090.namprd14.prod.outlook.com (10.174.109.22) by\n",
      " DM5PR1401MB2089.namprd14.prod.outlook.com (10.174.109.21) with Microsoft SMTP\n",
      " Server (version=TLS1_2, cipher=TLS_ECDHE_RSA_WITH_AES_256_CBC_SHA384_P256) id\n",
      " 15.20.776.11; Wed, 23 May 2018 20:04:35 +0000\n",
      "Received: from DM5PR1401MB2090.namprd14.prod.outlook.com\n",
      " ([fe80::7564:a58b:412:bafe]) by DM5PR1401MB2090.namprd14.prod.outlook.com\n",
      " ([fe80::7564:a58b:412:bafe%15]) with mapi id 15.20.0776.015; Wed, 23 May 2018\n",
      " 20:04:35 +0000\n",
      "From: Ekaterina Kozlova <e.kozlova@intetics.com>\n",
      "To: Ekaterina Kozlova <e.kozlova@intetics.com>\n",
      "Subject: REMINDER: Intetics & Kievfprog Meetup \"Modern advances in programming\n",
      " languages\"\n",
      "Thread-Topic: REMINDER: Intetics & Kievfprog Meetup \"Modern advances in\n",
      " programming languages\"\n",
      "Thread-Index: AdPyz3HyuN3MOv9+RValWVkzBTH3eA==\n",
      "Date: Wed, 23 May 2018 20:04:35 +0000\n",
      "Message-ID: <DM5PR1401MB2090FF797F784217CEAB8E488F6B0@DM5PR1401MB2090.namprd14.prod.outlook.com>\n",
      "Accept-Language: en-US, en-GB, ru-RU\n",
      "Content-Language: en-US\n",
      "X-MS-Has-Attach:\n",
      "X-MS-TNEF-Correlator:\n",
      "x-originating-ip: [213.110.128.236]\n",
      "x-ms-publictraffictype: Email\n",
      "x-microsoft-exchange-diagnostics: 1;DM5PR1401MB2089;7:uIWOy8UOHH1EOecrtR4v2c83cdLxpfV9OVkNMWZtVaAfIlf2a1onNU7cAt5yBZZSXdP8f6bbE4dAe9hEVrhqK4Z0sWYMZRLS9RPUyhxnfGR36JjH3R5AI1Q1ThkqqmAx+EQL4liVqSCyDboZspmV4E9vNleJTgHiaHjN1I8HAM4WLoA0jZJ6MqcECfpso3wd63WYAQGubkV0/JjtveWjZ3EmRE6krFdUYwGaf2tK+rp3cuSN++Zlk+2BrCcUMcoI\n",
      "x-microsoft-antispam: UriScan:;BCL:0;PCL:0;RULEID:(7020095)(4652020)(5600026)(2017052603328)(7153060)(7193020);SRVR:DM5PR1401MB2089;\n",
      "x-ms-traffictypediagnostic: DM5PR1401MB2089:\n",
      "authentication-results: spf=none (sender IP is )\n",
      " smtp.mailfrom=e.kozlova@intetics.com; \n",
      "x-microsoft-antispam-prvs: <DM5PR1401MB20894FCF61C717AC15DBA5528F6B0@DM5PR1401MB2089.namprd14.prod.outlook.com>\n",
      "x-exchange-antispam-report-test: UriScan:(28532068793085)(21748063052155);\n",
      "x-ms-exchange-senderadcheck: 1\n",
      "x-exchange-antispam-report-cfa-test: BCL:0;PCL:0;RULEID:(6040522)(2401047)(8121501046)(5005006)(93006095)(93001095)(3231254)(944501410)(52105095)(3002001)(10201501046)(149027)(150027)(6041310)(201703131423095)(201702281528075)(20161123555045)(201703061421075)(201703061406153)(20161123564045)(20161123562045)(20161123558120)(2016111802025)(20161123560045)(6072148)(6043046)(201708071742011)(7699016);SRVR:DM5PR1401MB2089;BCL:0;PCL:0;RULEID:;SRVR:DM5PR1401MB2089;\n",
      "x-forefront-prvs: 06818431B9\n",
      "x-forefront-antispam-report: SFV:NSPM;SFS:(10009020)(346002)(39840400004)(366004)(376002)(396003)(39380400002)(497574002)(199004)(12213003)(189003)(106356001)(3660700001)(81156014)(8936002)(6436002)(26005)(14454004)(316002)(6862004)(39060400002)(53936002)(65686004)(7736002)(478600001)(7696005)(413944005)(74316002)(99286004)(486006)(476003)(66066001)(6506007)(3280700002)(8676002)(2900100001)(97736004)(81166006)(33656002)(2906002)(3846002)(86362001)(345774005)(7366002)(7406005)(5660300001)(790700001)(6116002)(102836004)(68736007)(7416002)(6200100001)(105586002)(55016002)(9686003)(5250100002)(25786009)(6306002)(54896002)(13710500001);DIR:OUT;SFP:1101;SCL:1;SRVR:DM5PR1401MB2089;H:DM5PR1401MB2090.namprd14.prod.outlook.com;FPR:;SPF:None;LANG:en;PTR:InfoNoRecords;A:1;MX:1;\n",
      "received-spf: None (protection.outlook.com: intetics.com does not designate\n",
      " permitted sender hosts)\n",
      "x-microsoft-antispam-message-info: kET8glAKR2tHG0GYMdSapY/VNN5DT1nNRKA6fLNY/CLt92Hsg0wMbOkyVASmEWPoB/37hnlzszy+9D6jt0SZapqXSWhL/voSsqc2flksqX0SYu7pck741zfVVW3rlVCztCQimz8RNmSrsTFpyuQBoS8EeiyQtdYP2tgJbKy+leenzq/dckNnU8K+3LjlSdO2\n",
      "spamdiagnosticoutput: 1:99\n",
      "spamdiagnosticmetadata: NSPM\n",
      "Content-Type: multipart/alternative;\n",
      "\tboundary=\"_000_DM5PR1401MB2090FF797F784217CEAB8E488F6B0DM5PR1401MB2090_\"\n",
      "MIME-Version: 1.0\n",
      "X-MS-Office365-Filtering-Correlation-Id: f5d4c268-a7e8-45bc-39e5-08d5c0e8686b\n",
      "X-OriginatorOrg: intetics.com\n",
      "X-MS-Exchange-CrossTenant-Network-Message-Id: f5d4c268-a7e8-45bc-39e5-08d5c0e8686b\n",
      "X-MS-Exchange-CrossTenant-originalarrivaltime: 23 May 2018 20:04:35.7721\n",
      " (UTC)\n",
      "X-MS-Exchange-CrossTenant-fromentityheader: Hosted\n",
      "X-MS-Exchange-CrossTenant-id: 1e236203-3ea4-43e9-acf6-7f2b9344e11a\n",
      "X-MS-Exchange-Transport-CrossTenantHeadersStamped: DM5PR1401MB2089\n",
      "\n",
      "--_000_DM5PR1401MB2090FF797F784217CEAB8E488F6B0DM5PR1401MB2090_\n",
      "Content-Type: text/plain; charset=\"koi8-r\"\n",
      "Content-Transfer-Encoding: quoted-printable\n",
      "\n",
      "Dear friends,\n",
      "\n",
      "Thank you for your registration.\n",
      "\n",
      "The meetup will be held:\n",
      "Date: May 24 (Thursday)\n",
      "18.30-22.00\n",
      "Venue: Creative Hub IZONE,\n",
      "Naberezhno-Lugova st. 8, Kyiv\n",
      "\n",
      "Agenda:\n",
      "\n",
      "\n",
      "\n",
      "\n",
      "18.30-19.00\n",
      "\n",
      "Registration. Welcoming coffee\n",
      "\n",
      "19.00-19.45\n",
      "\n",
      "Flow - functional language for building cross-platform UI\n",
      "Speaker: ASGER ALSTRUP PALM\n",
      "The founder of FLOW programming language\n",
      "\n",
      "19.45-20.00\n",
      "\n",
      "Q/As\n",
      "\n",
      "20.00- 20.45\n",
      "\n",
      "Algebraic Subtyping\n",
      "Speaker: Alexander Nemish\n",
      "The founder of Lasca programming language\n",
      "\n",
      "20.45-21.00\n",
      "\n",
      "Q/As\n",
      "\n",
      "21.00-21.15\n",
      "\n",
      "Promotion activity from Intetics\n",
      "\n",
      "21.15-22.00\n",
      "\n",
      "Beer&Burger Networking\n",
      "\n",
      "\n",
      "\n",
      "Get a chance to win A DRONE from Intetics!\n",
      "\n",
      "\n",
      "Intetics Inc.\n",
      "\n",
      "--_000_DM5PR1401MB2090FF797F784217CEAB8E488F6B0DM5PR1401MB2090_\n",
      "Content-Type: text/html; charset=\"koi8-r\"\n",
      "Content-Transfer-Encoding: quoted-printable\n",
      "\n",
      "<html xmlns:v=3D\"urn:schemas-microsoft-com:vml\" xmlns:o=3D\"urn:schemas-micr=\n",
      "osoft-com:office:office\" xmlns:w=3D\"urn:schemas-microsoft-com:office:word\" =\n",
      "xmlns:m=3D\"http://schemas.microsoft.com/office/2004/12/omml\" xmlns=3D\"http:=\n",
      "//www.w3.org/TR/REC-html40\">\n",
      "<head>\n",
      "<meta http-equiv=3D\"Content-Type\" content=3D\"text/html; charset=3Dkoi8-r\">\n",
      "<meta name=3D\"Generator\" content=3D\"Microsoft Word 15 (filtered medium)\">\n",
      "<style><!--\n",
      "/* Font Definitions */\n",
      "@font-face\n",
      "\t{font-family:\"Cambria Math\";\n",
      "\tpanose-1:2 4 5 3 5 4 6 3 2 4;}\n",
      "@font-face\n",
      "\t{font-family:Calibri;\n",
      "\tpanose-1:2 15 5 2 2 2 4 3 2 4;}\n",
      "/* Style Definitions */\n",
      "p.MsoNormal, li.MsoNormal, div.MsoNormal\n",
      "\t{margin:0in;\n",
      "\tmargin-bottom:.0001pt;\n",
      "\tfont-size:11.0pt;\n",
      "\tfont-family:\"Calibri\",sans-serif;}\n",
      "a:link, span.MsoHyperlink\n",
      "\t{mso-style-priority:99;\n",
      "\tcolor:#0563C1;\n",
      "\ttext-decoration:underline;}\n",
      "a:visited, span.MsoHyperlinkFollowed\n",
      "\t{mso-style-priority:99;\n",
      "\tcolor:#954F72;\n",
      "\ttext-decoration:underline;}\n",
      "span.EmailStyle17\n",
      "\t{mso-style-type:personal-compose;\n",
      "\tfont-family:\"Calibri\",sans-serif;\n",
      "\tcolor:windowtext;}\n",
      "span.EmailStyle18\n",
      "\t{mso-style-type:personal;\n",
      "\tfont-family:\"Calibri\",sans-serif;\n",
      "\tcolor:windowtext;}\n",
      ".MsoChpDefault\n",
      "\t{mso-style-type:export-only;}\n",
      "@page WordSection1\n",
      "\t{size:8.5in 11.0in;\n",
      "\tmargin:56.7pt 42.5pt 56.7pt 85.05pt;}\n",
      "div.WordSection1\n",
      "\t{page:WordSection1;}\n",
      "--></style><!--[if gte mso 9]><xml>\n",
      "<o:shapedefaults v:ext=3D\"edit\" spidmax=3D\"1026\" />\n",
      "</xml><![endif]--><!--[if gte mso 9]><xml>\n",
      "<o:shapelayout v:ext=3D\"edit\">\n",
      "<o:idmap v:ext=3D\"edit\" data=3D\"1\" />\n",
      "</o:shapelayout></xml><![endif]-->\n",
      "</head>\n",
      "<body lang=3D\"EN-US\" link=3D\"#0563C1\" vlink=3D\"#954F72\">\n",
      "<div class=3D\"WordSection1\">\n",
      "<p class=3D\"MsoNormal\">Dear friends,<o:p></o:p></p>\n",
      "<p class=3D\"MsoNormal\"><o:p>&nbsp;</o:p></p>\n",
      "<p class=3D\"MsoNormal\">Thank you for your registration.<o:p></o:p></p>\n",
      "<p class=3D\"MsoNormal\"><o:p>&nbsp;</o:p></p>\n",
      "<p class=3D\"MsoNormal\">The meetup will be held:<o:p></o:p></p>\n",
      "<p class=3D\"MsoNormal\"><b>Date:</b> May 24 (Thursday)<o:p></o:p></p>\n",
      "<p class=3D\"MsoNormal\">18.30-22.00<o:p></o:p></p>\n",
      "<p class=3D\"MsoNormal\"><b>Venue: </b>Creative Hub <b>IZONE</b>,<o:p></o:p><=\n",
      "/p>\n",
      "<p class=3D\"MsoNormal\">Naberezhno-Lugova st. 8, Kyiv<o:p></o:p></p>\n",
      "<p class=3D\"MsoNormal\"><o:p>&nbsp;</o:p></p>\n",
      "<p class=3D\"MsoNormal\">Agenda:<o:p></o:p></p>\n",
      "<table class=3D\"MsoNormalTable\" border=3D\"0\" cellspacing=3D\"0\" cellpadding=\n",
      "=3D\"0\" width=3D\"440\" style=3D\"width:330.0pt;border-collapse:collapse\">\n",
      "<tbody>\n",
      "<tr style=3D\"height:14.5pt\">\n",
      "<td width=3D\"86\" valign=3D\"bottom\" style=3D\"width:64.85pt;padding:0in 5.4pt=\n",
      " 0in 5.4pt;height:14.5pt\">\n",
      "<p class=3D\"MsoNormal\" align=3D\"center\" style=3D\"text-align:center\"><b><spa=\n",
      "n style=3D\"color:black\"><o:p>&nbsp;</o:p></span></b></p>\n",
      "</td>\n",
      "<td width=3D\"247\" valign=3D\"bottom\" style=3D\"width:185.15pt;padding:0in 5.4=\n",
      "pt 0in 5.4pt;height:14.5pt\">\n",
      "<p class=3D\"MsoNormal\" align=3D\"center\" style=3D\"text-align:center\"><b><spa=\n",
      "n style=3D\"color:black\"><o:p>&nbsp;</o:p></span></b></p>\n",
      "</td>\n",
      "</tr>\n",
      "<tr style=3D\"height:14.5pt\">\n",
      "<td width=3D\"86\" nowrap=3D\"\" valign=3D\"bottom\" style=3D\"width:64.85pt;borde=\n",
      "r:solid windowtext 1.0pt;padding:0in 5.4pt 0in 5.4pt;height:14.5pt\">\n",
      "<p class=3D\"MsoNormal\"><i><span style=3D\"color:black\">18.30-19.00<o:p></o:p=\n",
      "></span></i></p>\n",
      "</td>\n",
      "<td width=3D\"247\" nowrap=3D\"\" valign=3D\"bottom\" style=3D\"width:185.15pt;bor=\n",
      "der:solid windowtext 1.0pt;border-left:none;padding:0in 5.4pt 0in 5.4pt;hei=\n",
      "ght:14.5pt\">\n",
      "<p class=3D\"MsoNormal\"><span style=3D\"color:black\">Registration. Welcoming =\n",
      "coffee<o:p></o:p></span></p>\n",
      "</td>\n",
      "</tr>\n",
      "<tr style=3D\"height:29.0pt\">\n",
      "<td width=3D\"86\" nowrap=3D\"\" valign=3D\"bottom\" style=3D\"width:64.85pt;borde=\n",
      "r:solid windowtext 1.0pt;border-top:none;padding:0in 5.4pt 0in 5.4pt;height=\n",
      ":29.0pt\">\n",
      "<p class=3D\"MsoNormal\"><i><span style=3D\"color:black\">19.00-</span></i><i><=\n",
      "span lang=3D\"RU\" style=3D\"color:black\">19</span><span style=3D\"color:black\"=\n",
      ">.</span></i><i><span lang=3D\"RU\" style=3D\"color:black\">45<o:p></o:p></span=\n",
      "></i></p>\n",
      "</td>\n",
      "<td width=3D\"247\" nowrap=3D\"\" valign=3D\"bottom\" style=3D\"width:185.15pt;bor=\n",
      "der-top:none;border-left:none;border-bottom:solid windowtext 1.0pt;border-r=\n",
      "ight:solid windowtext 1.0pt;padding:0in 5.4pt 0in 5.4pt;height:29.0pt\">\n",
      "<p class=3D\"MsoNormal\"><a name=3D\"_Hlk512696210\">Flow - functional language=\n",
      " for building cross-platform UI\n",
      "</a><o:p></o:p></p>\n",
      "<p class=3D\"MsoNormal\"><b>Speaker:</b> ASGER ALSTRUP PALM<o:p></o:p></p>\n",
      "<p class=3D\"MsoNormal\">The founder of FLOW programming language<span style=\n",
      "=3D\"color:black\"><o:p></o:p></span></p>\n",
      "</td>\n",
      "</tr>\n",
      "<tr style=3D\"height:14.5pt\">\n",
      "<td width=3D\"86\" nowrap=3D\"\" valign=3D\"bottom\" style=3D\"width:64.85pt;borde=\n",
      "r:solid windowtext 1.0pt;border-top:none;padding:0in 5.4pt 0in 5.4pt;height=\n",
      ":14.5pt\">\n",
      "<p class=3D\"MsoNormal\"><i><span style=3D\"color:black\">19.</span></i><i><spa=\n",
      "n lang=3D\"RU\" style=3D\"color:black\">45</span><span style=3D\"color:black\">-2=\n",
      "0.</span></i><i><span lang=3D\"RU\" style=3D\"color:black\">00<o:p></o:p></span=\n",
      "></i></p>\n",
      "</td>\n",
      "<td width=3D\"247\" valign=3D\"bottom\" style=3D\"width:185.15pt;border-top:none=\n",
      ";border-left:none;border-bottom:solid windowtext 1.0pt;border-right:solid w=\n",
      "indowtext 1.0pt;padding:0in 5.4pt 0in 5.4pt;height:14.5pt\">\n",
      "<p class=3D\"MsoNormal\"><span style=3D\"color:black\">Q/As<o:p></o:p></span></=\n",
      "p>\n",
      "</td>\n",
      "</tr>\n",
      "<tr style=3D\"height:14.5pt\">\n",
      "<td width=3D\"86\" nowrap=3D\"\" valign=3D\"bottom\" style=3D\"width:64.85pt;borde=\n",
      "r:solid windowtext 1.0pt;border-top:none;padding:0in 5.4pt 0in 5.4pt;height=\n",
      ":14.5pt\">\n",
      "<p class=3D\"MsoNormal\"><i><span style=3D\"color:black\">20.</span></i><i><spa=\n",
      "n lang=3D\"RU\" style=3D\"color:black\">00</span><span style=3D\"color:black\">- =\n",
      "2</span></i><i><span lang=3D\"RU\" style=3D\"color:black\">0</span><span style=\n",
      "=3D\"color:black\">.</span></i><i><span lang=3D\"RU\" style=3D\"color:black\">45<=\n",
      "o:p></o:p></span></i></p>\n",
      "</td>\n",
      "<td width=3D\"247\" nowrap=3D\"\" valign=3D\"bottom\" style=3D\"width:185.15pt;bor=\n",
      "der-top:none;border-left:none;border-bottom:solid windowtext 1.0pt;border-r=\n",
      "ight:solid windowtext 1.0pt;padding:0in 5.4pt 0in 5.4pt;height:14.5pt\">\n",
      "<p class=3D\"MsoNormal\"><span style=3D\"color:black\">Algebraic Subtyping <o:p=\n",
      "></o:p></span></p>\n",
      "<p class=3D\"MsoNormal\"><b>Speaker:</b> <span style=3D\"color:black\">Alexande=\n",
      "r Nemish<o:p></o:p></span></p>\n",
      "<p class=3D\"MsoNormal\"><span style=3D\"color:black\">The founder </span>of La=\n",
      "sca programming language<span style=3D\"color:black\"><o:p></o:p></span></p>\n",
      "</td>\n",
      "</tr>\n",
      "<tr style=3D\"height:14.5pt\">\n",
      "<td width=3D\"86\" nowrap=3D\"\" valign=3D\"bottom\" style=3D\"width:64.85pt;borde=\n",
      "r:solid windowtext 1.0pt;border-top:none;padding:0in 5.4pt 0in 5.4pt;height=\n",
      ":14.5pt\">\n",
      "<p class=3D\"MsoNormal\"><i><span style=3D\"color:black\">20.</span></i><i><spa=\n",
      "n lang=3D\"RU\" style=3D\"color:black\">45</span><span style=3D\"color:black\">-2=\n",
      "1.</span></i><i><span lang=3D\"RU\" style=3D\"color:black\">00<o:p></o:p></span=\n",
      "></i></p>\n",
      "</td>\n",
      "<td width=3D\"247\" nowrap=3D\"\" valign=3D\"bottom\" style=3D\"width:185.15pt;bor=\n",
      "der-top:none;border-left:none;border-bottom:solid windowtext 1.0pt;border-r=\n",
      "ight:solid windowtext 1.0pt;padding:0in 5.4pt 0in 5.4pt;height:14.5pt\">\n",
      "<p class=3D\"MsoNormal\"><span style=3D\"color:black\">Q/As<o:p></o:p></span></=\n",
      "p>\n",
      "</td>\n",
      "</tr>\n",
      "<tr style=3D\"height:14.5pt\">\n",
      "<td width=3D\"86\" nowrap=3D\"\" valign=3D\"bottom\" style=3D\"width:64.85pt;borde=\n",
      "r:solid windowtext 1.0pt;border-top:none;padding:0in 5.4pt 0in 5.4pt;height=\n",
      ":14.5pt\">\n",
      "<p class=3D\"MsoNormal\"><i><span style=3D\"color:black\">21.</span></i><i><spa=\n",
      "n lang=3D\"RU\" style=3D\"color:black\">00</span><span style=3D\"color:black\">-2=\n",
      "1.</span></i><i><span lang=3D\"RU\" style=3D\"color:black\">15<o:p></o:p></span=\n",
      "></i></p>\n",
      "</td>\n",
      "<td width=3D\"247\" nowrap=3D\"\" valign=3D\"bottom\" style=3D\"width:185.15pt;bor=\n",
      "der-top:none;border-left:none;border-bottom:solid windowtext 1.0pt;border-r=\n",
      "ight:solid windowtext 1.0pt;padding:0in 5.4pt 0in 5.4pt;height:14.5pt\">\n",
      "<p class=3D\"MsoNormal\"><span style=3D\"color:black\">Promotion activity from =\n",
      "Intetics<o:p></o:p></span></p>\n",
      "</td>\n",
      "</tr>\n",
      "<tr style=3D\"height:14.5pt\">\n",
      "<td width=3D\"86\" nowrap=3D\"\" valign=3D\"bottom\" style=3D\"width:64.85pt;borde=\n",
      "r:solid windowtext 1.0pt;border-top:none;padding:0in 5.4pt 0in 5.4pt;height=\n",
      ":14.5pt\">\n",
      "<p class=3D\"MsoNormal\"><i><span style=3D\"color:black\">21.</span></i><i><spa=\n",
      "n lang=3D\"RU\" style=3D\"color:black\">15</span><span style=3D\"color:black\">-2=\n",
      "2.00<o:p></o:p></span></i></p>\n",
      "</td>\n",
      "<td width=3D\"247\" nowrap=3D\"\" valign=3D\"bottom\" style=3D\"width:185.15pt;bor=\n",
      "der-top:none;border-left:none;border-bottom:solid windowtext 1.0pt;border-r=\n",
      "ight:solid windowtext 1.0pt;padding:0in 5.4pt 0in 5.4pt;height:14.5pt\">\n",
      "<p class=3D\"MsoNormal\"><span style=3D\"color:black\">Beer&amp;Burger Networki=\n",
      "ng<o:p></o:p></span></p>\n",
      "</td>\n",
      "</tr>\n",
      "</tbody>\n",
      "</table>\n",
      "<p class=3D\"MsoNormal\"><o:p>&nbsp;</o:p></p>\n",
      "<p class=3D\"MsoNormal\"><o:p>&nbsp;</o:p></p>\n",
      "<p class=3D\"MsoNormal\">Get a chance to win A DRONE from Intetics! <o:p></o:=\n",
      "p></p>\n",
      "<p class=3D\"MsoNormal\"><o:p>&nbsp;</o:p></p>\n",
      "<p class=3D\"MsoNormal\"><span style=3D\"mso-fareast-language:RU\"><o:p>&nbsp;<=\n",
      "/o:p></span></p>\n",
      "<p class=3D\"MsoNormal\"><b><span style=3D\"color:#ED7D31;mso-fareast-language=\n",
      ":RU\">Intetics Inc.\n",
      "</span></b><b><span style=3D\"color:#ED7D31\"><o:p></o:p></span></b></p>\n",
      "</div>\n",
      "</body>\n",
      "</html>\n",
      "\n",
      "--_000_DM5PR1401MB2090FF797F784217CEAB8E488F6B0DM5PR1401MB2090_--\n"
     ]
    },
    {
     "name": "stdout",
     "output_type": "stream",
     "text": [
      "\n"
     ]
    }
   ],
   "source": [
    "mail = process_from_file(\"D:\\Downloads\\original_msg.txt\")"
   ]
  },
  {
   "cell_type": "code",
   "execution_count": 732,
   "metadata": {},
   "outputs": [
    {
     "name": "stdout",
     "output_type": "stream",
     "text": [
      "REMINDER: Intetics & Kievfprog Meetup \"Modern advances in programming\n",
      " languages\"\n",
      "Dear friends,\n",
      "Thank you for your registration.\n",
      "The meetup will be held:\n",
      "**Date:** May 24 (Thursday)\n",
      "18.30-22.00\n",
      "**Venue:** Creative Hub **IZONE** ,\n",
      "Naberezhno-Lugova st. 8, Kyiv\n",
      "Agenda:\n",
      "** **\n",
      "|\n",
      "** **  \n",
      "  \n",
      "---|---  \n",
      "  \n",
      "_18.30-19.00_\n",
      "|\n",
      "Registration. Welcoming coffee  \n",
      "  \n",
      "_19.00-_ _19._ _45_\n",
      "|\n",
      "Flow - functional language for building cross-platform UI\n",
      "**Speaker:** ASGER ALSTRUP PALM\n",
      "The founder of FLOW programming language  \n",
      "  \n",
      "_19._ _45 -20._ _00_\n",
      "|\n",
      "Q/As  \n",
      "  \n",
      "_20._ _00 \\- 2_ _0._ _45_\n",
      "|\n",
      "Algebraic Subtyping\n",
      "**Speaker:** Alexander Nemish\n",
      "The founder of Lasca programming language  \n",
      "  \n",
      "_20._ _45 -21._ _00_\n",
      "|\n",
      "Q/As  \n",
      "  \n",
      "_21._ _00 -21._ _15_\n",
      "|\n",
      "Promotion activity from Intetics  \n",
      "  \n",
      "_21._ _15 -22.00_\n",
      "|\n",
      "Beer&Burger Networking  \n",
      "  \n",
      "Get a chance to win A DRONE from Intetics!\n",
      "**Intetics Inc.** ****\n",
      "\n",
      "PARSED\n",
      "###############\n",
      "Subject: REMINDER: Intetics & Kievfprog Meetup \"Modern advances in programming\n",
      " languages\"\n",
      "Start: 2018-05-24 18:30:00+00:00\n",
      "End: 2018-05-24 22:00:00+00:00\n",
      "[181, 192]\n",
      "Grain:minute\n",
      "Location: Creative Hub\n",
      "\n",
      "Subject: REMINDER: Intetics & Kievfprog Meetup \"Modern advances in programming\n",
      " languages\"\n",
      "Start: 2018-05-24 18:30:00+00:00\n",
      "End: 2018-05-24 19:00:00+00:00\n",
      "[290, 301]\n",
      "Grain:minute\n",
      "Location: Creative Hub\n",
      "\n",
      "Subject: REMINDER: Intetics & Kievfprog Meetup \"Modern advances in programming\n",
      " languages\"\n",
      "Start: 2018-05-24 19:00:00+00:00\n",
      "End: 2018-05-24 20:00:00+00:00\n",
      "[337, 342]\n",
      "Grain:minute\n",
      "Location: Creative Hub\n",
      "\n",
      "Subject: REMINDER: Intetics & Kievfprog Meetup \"Modern advances in programming\n",
      " languages\"\n",
      "Start: 2019-04-14 12:00:00+00:00\n",
      "End: 2019-04-14 13:00:00+00:00\n",
      "[443, 447]\n",
      "Grain:day\n",
      "Location: Creative Hub\n",
      "\n"
     ]
    }
   ],
   "source": [
    "demo_print(mail)"
   ]
  },
  {
   "cell_type": "code",
   "execution_count": 733,
   "metadata": {},
   "outputs": [
    {
     "name": "stdout",
     "output_type": "stream",
     "text": [
      "Storage Valuation Meeting\n",
      "Please plan on attending meeting to discuss Storage Valuation, on:\n",
      "Date:    Wednesday August 15, 2001\n",
      "Time:     3:00pm - 4:00pm\n",
      "Place:    EB32c2\n",
      "Thank You,\n",
      "Vanessa Berrios\n",
      "Administrative Assistant \n",
      "for Rita Wynne & Mark McClure\n",
      "(713)345-4197\n",
      "\n",
      "PARSED\n",
      "###############\n",
      "Subject: Storage Valuation Meeting\n",
      "Start: 2001-08-15 15:00:00-07:00\n",
      "End: 2001-08-15 16:00:00-07:00\n",
      "[131, 146]\n",
      "Grain:minute\n",
      "Location: EB32c2\n",
      "\n"
     ]
    }
   ],
   "source": [
    "demo_print(train[0]['email'])"
   ]
  },
  {
   "cell_type": "code",
   "execution_count": 734,
   "metadata": {},
   "outputs": [
    {
     "name": "stdout",
     "output_type": "stream",
     "text": [
      "Grammarly AI-NLP Club #4 - Successful registration\n",
      "Good morning! We are glad to confirm your registration for Understanding and Assessing Language with Neural Network Models\n",
      "<https://www.facebook.com/events/173479380101668/>!\n",
      "When: Tuesday, March 20, 7 PM\n",
      "Language: English\n",
      "Duration: 1 hour, followed by networking opportunities and snacks\n",
      "Join us for our fourth Grammarly AI-NLP Club on Tuesday, March 20 at\n",
      "Gulliver Business Center, Tower B, floor 14.\n",
      "Please, remember to bring your ID (a passport or a driver's license).\n",
      "You'll need it to enter the business center. And don't forget to pick up a\n",
      "bracelet pass at the reception desk on the first floor!\n",
      "*If your plans change, we would appreciate it if you let us know. We will\n",
      "give your seat to someone on the waiting list.*\n",
      "Contact us:\n",
      "Call: 063 441 12 58\n",
      "Email: viktoria.kolomiets@grammarly.com\n",
      "Follow us:\n",
      "Facebook <https://www.facebook.com/GrammarlyKyiv/>\n",
      "Instagram <https://www.instagram.com/grammarly_kyiv/>\n",
      "See you soon!\n",
      "*Viktoria, *\n",
      "*Grammarly*\n",
      "\n",
      "\n",
      "PARSED\n",
      "###############\n",
      "Subject: Grammarly AI-NLP Club #4 - Successful registration\n",
      "Start: 2018-03-20 19:00:00+02:00\n",
      "End: 2018-03-20 20:00:00+02:00\n",
      "[232, 255]\n",
      "Grain:hour\n",
      "Location: Gulliver Business Center, Tower B, floor 14\n",
      "\n",
      "Subject: Grammarly AI-NLP Club #4 - Successful registration\n",
      "Start: 2018-04-01 12:00:00+02:00\n",
      "End: 2018-04-01 13:00:00+02:00\n",
      "[635, 647]\n",
      "Grain:day\n",
      "Location: Gulliver Business Center, Tower B, floor 14\n",
      "\n"
     ]
    }
   ],
   "source": [
    "demo_print(test[14]['email'])"
   ]
  }
 ],
 "metadata": {
  "kernelspec": {
   "display_name": "Python 3",
   "language": "python",
   "name": "python3"
  },
  "language_info": {
   "codemirror_mode": {
    "name": "ipython",
    "version": 3
   },
   "file_extension": ".py",
   "mimetype": "text/x-python",
   "name": "python",
   "nbconvert_exporter": "python",
   "pygments_lexer": "ipython3",
   "version": "3.6.5"
  }
 },
 "nbformat": 4,
 "nbformat_minor": 2
}
