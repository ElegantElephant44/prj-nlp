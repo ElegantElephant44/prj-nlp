{
 "cells": [
  {
   "cell_type": "code",
   "execution_count": 17,
   "metadata": {},
   "outputs": [],
   "source": [
    "import csv\n",
    "import sys\n",
    "import zipfile\n",
    "import io\n",
    "import email\n",
    "import json\n",
    "archive = zipfile.ZipFile('enron-email-dataset.zip', 'r')\n",
    "csv.field_size_limit(sys.maxsize)\n",
    "\n",
    "def getstuff(filename):\n",
    "    with archive.open(filename, \"r\") as file:\n",
    "        csvfile = io.TextIOWrapper(file)\n",
    "        datareader = csv.reader(csvfile)\n",
    "        count = 0\n",
    "        for row in datareader:\n",
    "            yield row"
   ]
  },
  {
   "cell_type": "code",
   "execution_count": 14,
   "metadata": {},
   "outputs": [],
   "source": [
    "gen = getstuff('emails.csv')"
   ]
  },
  {
   "cell_type": "code",
   "execution_count": 15,
   "metadata": {},
   "outputs": [],
   "source": [
    "def skip(gen, n):\n",
    "    for i in range(n):\n",
    "        next(gen)\n",
    "    return gen"
   ]
  },
  {
   "cell_type": "code",
   "execution_count": null,
   "metadata": {
    "scrolled": true
   },
   "outputs": [],
   "source": [
    "import email\n",
    "count = 0\n",
    "with open('filtered2.csv', \"w\") as filteredFile:\n",
    "    writer = csv.writer(filteredFile)\n",
    "    writer.writerow(next(gen))\n",
    "    for row in gen:\n",
    "        if (count == 250):\n",
    "            skip(gen, 25000)\n",
    "            count = 0\n",
    "        msg = email.message_from_string(row[1])\n",
    "        payload = msg.get_payload()\n",
    "        if payload.startswith(\"---------------------- Forwarded\") : continue\n",
    "        if check_payload(payload):\n",
    "            writer.writerow(row)\n",
    "            count = count + 1\n",
    "count"
   ]
  },
  {
   "cell_type": "code",
   "execution_count": 36,
   "metadata": {},
   "outputs": [],
   "source": [
    "import requests\n",
    "import json\n",
    "duckling_url = 'http://192.168.99.100:8000/parse'\n",
    "headers = {'content-type': 'application/x-www-form-urlencoded'}\n",
    "def check_payload(text):\n",
    "    payload = {'text': text}\n",
    "    r = requests.post(duckling_url, data = payload, headers=headers)\n",
    "    return any(x['dim'] == 'time' for x in r.json())"
   ]
  },
  {
   "cell_type": "code",
   "execution_count": 6,
   "metadata": {},
   "outputs": [
    {
     "data": {
      "text/plain": [
       "False"
      ]
     },
     "execution_count": 6,
     "metadata": {},
     "output_type": "execute_result"
    }
   ],
   "source": [
    "check_payload('Phillip, Below is the issues & to do list as we go forward with documenting the ')"
   ]
  },
  {
   "cell_type": "code",
   "execution_count": 4,
   "metadata": {},
   "outputs": [],
   "source": [
    "import gzip\n",
    "def get(filename):\n",
    "    with open(filename, \"r\") as csvfile:\n",
    "        datareader = csv.reader(csvfile)\n",
    "        for row in datareader:\n",
    "            yield row"
   ]
  },
  {
   "cell_type": "code",
   "execution_count": 2,
   "metadata": {},
   "outputs": [],
   "source": [
    "gen = get('filtered2.csv')"
   ]
  },
  {
   "cell_type": "code",
   "execution_count": 5,
   "metadata": {},
   "outputs": [],
   "source": [
    "mails = [x for x  in gen if x != [] and '----- Forwarded' not in x[1]]"
   ]
  },
  {
   "cell_type": "code",
   "execution_count": 19,
   "metadata": {},
   "outputs": [],
   "source": [
    "import random\n",
    "random.shuffle(mails)"
   ]
  },
  {
   "cell_type": "code",
   "execution_count": 10,
   "metadata": {},
   "outputs": [
    {
     "data": {
      "text/plain": [
       "2442"
      ]
     },
     "execution_count": 10,
     "metadata": {},
     "output_type": "execute_result"
    }
   ],
   "source": [
    "import email\n",
    "with open('filtered.csv', 'w', newline='') as outfile:\n",
    "    writer = csv.writer(outfile)\n",
    "    count = 0\n",
    "    for row in mails:\n",
    "        msg = email.message_from_string(row[1])\n",
    "        if msg['subject']:\n",
    "            low = msg['subject'].lower()\n",
    "            if (low.startswith('re:') or low.startswith('fwd:') or low.startswith('fw:')): continue\n",
    "        writer.writerow(row)\n",
    "        count = count + 1\n",
    "count"
   ]
  },
  {
   "cell_type": "code",
   "execution_count": 44,
   "metadata": {},
   "outputs": [],
   "source": [
    "import os\n",
    "import email\n",
    "def parse_meeting_folder():\n",
    "    count = 0\n",
    "    with open('meatings.csv', 'w', newline='') as outfile:\n",
    "        writer = csv.writer(outfile)\n",
    "        writer.writerow(['category', 'mail'])\n",
    "        folders = [\"./EnronMeetings-Minorthird/train/bunch-1\",\n",
    "                   \"./EnronMeetings-Minorthird/train/bunch-2\",\n",
    "                   \"./EnronMeetings-Minorthird/train/bunch-3\",\n",
    "                   \"./EnronMeetings-Minorthird/test/bunch4\"]\n",
    "        for folder in folders:\n",
    "            for filename in os.listdir(folder):\n",
    "                with open(os.path.join(folder, filename), 'r') as myfile:\n",
    "                    data=myfile.read()\n",
    "                msg = email.message_from_string(data)\n",
    "                payload = msg.get_payload()\n",
    "                if check_payload(payload):\n",
    "                    writer.writerow(['1',data])\n",
    "                    count = count + 1\n",
    "    print(count)"
   ]
  },
  {
   "cell_type": "code",
   "execution_count": 45,
   "metadata": {},
   "outputs": [
    {
     "name": "stdout",
     "output_type": "stream",
     "text": [
      "342\n"
     ]
    }
   ],
   "source": [
    "parse_meeting_folder()"
   ]
  },
  {
   "cell_type": "code",
   "execution_count": 8,
   "metadata": {},
   "outputs": [],
   "source": [
    "def get_emails(filename):\n",
    "    emails = []\n",
    "    with open(filename, \"r\") as csvfile:\n",
    "        csvreader = csv.reader(csvfile)        \n",
    "        for row in csvreader:\n",
    "            emails.append(row[1])\n",
    "    return emails"
   ]
  },
  {
   "cell_type": "code",
   "execution_count": 9,
   "metadata": {},
   "outputs": [],
   "source": [
    "filtered = get_emails('filtered.csv')"
   ]
  },
  {
   "cell_type": "code",
   "execution_count": 11,
   "metadata": {},
   "outputs": [],
   "source": [
    "meetings = get_emails('meetings.csv')"
   ]
  },
  {
   "cell_type": "code",
   "execution_count": 13,
   "metadata": {},
   "outputs": [],
   "source": [
    "import random\n",
    "fil_sample = random.sample(filtered,50)\n",
    "meet_sample = random.sample(meetings,50)"
   ]
  },
  {
   "cell_type": "code",
   "execution_count": 14,
   "metadata": {},
   "outputs": [],
   "source": [
    "data = fil_sample + meet_sample\n",
    "random.shuffle(data)"
   ]
  },
  {
   "cell_type": "code",
   "execution_count": 29,
   "metadata": {},
   "outputs": [],
   "source": [
    "results = [{'email':x, 'meetings':[{'subj':'', 'time':'', 'loc':'', 'guests':''}]} for x in data]"
   ]
  },
  {
   "cell_type": "code",
   "execution_count": 30,
   "metadata": {},
   "outputs": [],
   "source": [
    "with open('data.json', 'w') as f:\n",
    "    f.write(json.dumps(results))"
   ]
  },
  {
   "cell_type": "code",
   "execution_count": 20,
   "metadata": {},
   "outputs": [
    {
     "data": {
      "text/plain": [
       "{'email': 'Message-ID: <6276880.1072121653621.JavaMail.evans@thyme>\\nDate: Tue, 23 Oct 2001 08:40:04 -0700 (PDT)\\nFrom: m.hall@enron.com\\nTo: m.hall@enron.com, peggy.hedstrom@enron.com, w..white@enron.com, \\n\\tleslie.reeves@enron.com, c..gossett@enron.com, \\n\\trobert.superty@enron.com, a..allen@enron.com, s..theriot@enron.com, \\n\\tevelyn.aucoin@enron.com\\nSubject: Energy Operations Staff Meeting\\nCc: brandee.jackson@enron.com, sonia.hennessy@enron.com, \\n\\taraceli.romero@enron.com, yolanda.pena@enron.com\\nMime-Version: 1.0\\nContent-Type: text/plain; charset=us-ascii\\nContent-Transfer-Encoding: 7bit\\nBcc: brandee.jackson@enron.com, sonia.hennessy@enron.com, \\n\\taraceli.romero@enron.com, yolanda.pena@enron.com\\n\\nPlease plan to attend a Staff Meeting with Bob Hall...\\n\\nWednesday, October 24, 2001',\n",
       " 'guests': '',\n",
       " 'loc': '',\n",
       " 'subj': '',\n",
       " 'time': ''}"
      ]
     },
     "execution_count": 20,
     "metadata": {},
     "output_type": "execute_result"
    }
   ],
   "source": [
    "results[0]"
   ]
  },
  {
   "cell_type": "code",
   "execution_count": 24,
   "metadata": {},
   "outputs": [
    {
     "data": {
      "text/plain": [
       "'2001-10-24 00:00:00'"
      ]
     },
     "execution_count": 24,
     "metadata": {},
     "output_type": "execute_result"
    }
   ],
   "source": [
    "from dateutil.parser import parse\n",
    "str(parse('October 24, 2001'))"
   ]
  },
  {
   "cell_type": "code",
   "execution_count": 31,
   "metadata": {},
   "outputs": [],
   "source": [
    "with open('data.csv','w', newline='') as f:\n",
    "    writer = csv.writer(f)\n",
    "    for m in data:\n",
    "        writer.writerow([m])"
   ]
  }
 ],
 "metadata": {
  "kernelspec": {
   "display_name": "Python 3",
   "language": "python",
   "name": "python3"
  },
  "language_info": {
   "codemirror_mode": {
    "name": "ipython",
    "version": 3
   },
   "file_extension": ".py",
   "mimetype": "text/x-python",
   "name": "python",
   "nbconvert_exporter": "python",
   "pygments_lexer": "ipython3",
   "version": "3.6.4"
  }
 },
 "nbformat": 4,
 "nbformat_minor": 2
}
