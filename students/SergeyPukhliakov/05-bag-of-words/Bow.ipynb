{
 "cells": [
  {
   "cell_type": "code",
   "execution_count": 121,
   "metadata": {},
   "outputs": [],
   "source": [
    "import json\n",
    "from pprint import pprint\n",
    "from collections import namedtuple\n",
    "from random import shuffle\n",
    "with open('./result.json', encoding='utf-8') as f:\n",
    "    content = f.readlines()\n",
    "data = [json.loads(line, object_hook=lambda d: namedtuple('X', d.keys())(*d.values())) for line in content]\n",
    "shuffle(data)"
   ]
  },
  {
   "cell_type": "code",
   "execution_count": 122,
   "metadata": {},
   "outputs": [],
   "source": [
    "extracted_data = [(int(x.grade),x.text) for x in data]\n",
    "divider = int(round(0.7 * len(extracted_data)))\n",
    "learn_data = extracted_data[:divider]\n",
    "test_data = extracted_data[divider:]"
   ]
  },
  {
   "cell_type": "code",
   "execution_count": 162,
   "metadata": {},
   "outputs": [],
   "source": [
    "def convert_grade(grade):\n",
    "    if grade == 3 : return 0\n",
    "    if grade > 3 : return 1\n",
    "    if grade < 3 : return -1\n",
    "\n",
    "def process_data(data):\n",
    "    texts = []\n",
    "    grades = []\n",
    "    for grade,text in learn_data:\n",
    "        texts.append(text)\n",
    "        grades.append(convert_grade(grade))\n",
    "    return texts, grades\n",
    "\n",
    "texts,grades = process_data(learn_data)\n",
    "test_texts,test_grades = process_data(learn_data)"
   ]
  },
  {
   "cell_type": "code",
   "execution_count": 163,
   "metadata": {},
   "outputs": [],
   "source": [
    "from sklearn.metrics import f1_score\n",
    "from sklearn.feature_extraction.text import CountVectorizer\n",
    "from sklearn.feature_extraction.text import TfidfTransformer\n",
    "from sklearn.naive_bayes import BernoulliNB \n",
    "from sklearn.pipeline import Pipeline\n",
    "\n",
    "text_clf = Pipeline([('vect', CountVectorizer()), ('tfidf', TfidfTransformer()), ('clf', BernoulliNB())])"
   ]
  },
  {
   "cell_type": "code",
   "execution_count": 164,
   "metadata": {},
   "outputs": [
    {
     "data": {
      "text/plain": [
       "Pipeline(memory=None,\n",
       "     steps=[('vect', CountVectorizer(analyzer='word', binary=False, decode_error='strict',\n",
       "        dtype=<class 'numpy.int64'>, encoding='utf-8', input='content',\n",
       "        lowercase=True, max_df=1.0, max_features=None, min_df=1,\n",
       "        ngram_range=(1, 1), preprocessor=None, stop_words=None,\n",
       "        strip...se, use_idf=True)), ('clf', BernoulliNB(alpha=1.0, binarize=0.0, class_prior=None, fit_prior=True))])"
      ]
     },
     "execution_count": 164,
     "metadata": {},
     "output_type": "execute_result"
    }
   ],
   "source": [
    "text_clf.fit(texts, grades)"
   ]
  },
  {
   "cell_type": "code",
   "execution_count": 165,
   "metadata": {},
   "outputs": [],
   "source": [
    "predicted = text_clf.predict(test_texts)"
   ]
  },
  {
   "cell_type": "code",
   "execution_count": 169,
   "metadata": {},
   "outputs": [
    {
     "name": "stdout",
     "output_type": "stream",
     "text": [
      "mean:0.8702737940026075 f1:0.8325631998009743\n"
     ]
    }
   ],
   "source": [
    "mean_1 = np.mean(predicted == test_grades)\n",
    "f1_1 = f1_score(test_grades, predicted, average='weighted')\n",
    "print (\"mean:\" + str(mean_1) + \" f1:\" + str(f1_1))"
   ]
  },
  {
   "cell_type": "code",
   "execution_count": 186,
   "metadata": {},
   "outputs": [
    {
     "name": "stdout",
     "output_type": "stream",
     "text": [
      "             precision    recall  f1-score   support\n",
      "\n",
      "         -1       0.64      0.09      0.15        80\n",
      "          0       0.34      0.10      0.15       112\n",
      "          1       0.88      0.98      0.93      1342\n",
      "\n",
      "avg / total       0.83      0.87      0.83      1534\n",
      "\n"
     ]
    }
   ],
   "source": [
    "from sklearn.metrics import classification_report\n",
    "print (classification_report(test_grades, predicted))"
   ]
  },
  {
   "cell_type": "code",
   "execution_count": null,
   "metadata": {},
   "outputs": [],
   "source": [
    "text_clf = Pipeline([('vect', CountVectorizer()), ('tfidf', TfidfTransformer()), ('clf', BernoulliNB())])"
   ]
  },
  {
   "cell_type": "code",
   "execution_count": 170,
   "metadata": {},
   "outputs": [],
   "source": [
    "count_vect = CountVectorizer()"
   ]
  },
  {
   "cell_type": "code",
   "execution_count": 183,
   "metadata": {},
   "outputs": [],
   "source": [
    "X_train_counts = count_vect.fit_transform(texts)"
   ]
  },
  {
   "cell_type": "code",
   "execution_count": 185,
   "metadata": {},
   "outputs": [
    {
     "name": "stdout",
     "output_type": "stream",
     "text": [
      "  (0, 2768)\t1\n",
      "  (0, 1729)\t1\n",
      "  (0, 8047)\t1\n",
      "  (0, 3989)\t1\n",
      "  (1, 7951)\t1\n",
      "  (1, 1499)\t1\n",
      "  (1, 2199)\t1\n",
      "  (1, 4488)\t1\n",
      "  (1, 4984)\t1\n",
      "  (1, 3785)\t1\n",
      "  (1, 7973)\t1\n",
      "  (1, 2461)\t1\n",
      "  (1, 807)\t1\n",
      "  (1, 4232)\t2\n",
      "  (2, 7613)\t1\n",
      "  (2, 4111)\t1\n",
      "  (2, 2129)\t1\n",
      "  (2, 801)\t1\n",
      "  (2, 3898)\t1\n",
      "  (2, 8660)\t1\n",
      "  (2, 3577)\t1\n",
      "  (2, 4664)\t1\n",
      "  (2, 527)\t1\n",
      "  (2, 9086)\t1\n",
      "  (2, 6483)\t1\n",
      "  :\t:\n",
      "  (1533, 1685)\t1\n",
      "  (1533, 3910)\t1\n",
      "  (1533, 7604)\t1\n",
      "  (1533, 4650)\t1\n",
      "  (1533, 3953)\t2\n",
      "  (1533, 4493)\t1\n",
      "  (1533, 8783)\t1\n",
      "  (1533, 6559)\t1\n",
      "  (1533, 9095)\t1\n",
      "  (1533, 2462)\t1\n",
      "  (1533, 2032)\t1\n",
      "  (1533, 8471)\t1\n",
      "  (1533, 7397)\t1\n",
      "  (1533, 4377)\t1\n",
      "  (1533, 9724)\t1\n",
      "  (1533, 9570)\t1\n",
      "  (1533, 7722)\t1\n",
      "  (1533, 8422)\t2\n",
      "  (1533, 9077)\t1\n",
      "  (1533, 9124)\t1\n",
      "  (1533, 2296)\t1\n",
      "  (1533, 2178)\t1\n",
      "  (1533, 4681)\t3\n",
      "  (1533, 6483)\t1\n",
      "  (1533, 4984)\t2\n"
     ]
    }
   ],
   "source": [
    "print(X_train_counts)"
   ]
  },
  {
   "cell_type": "code",
   "execution_count": null,
   "metadata": {},
   "outputs": [],
   "source": []
  }
 ],
 "metadata": {
  "kernelspec": {
   "display_name": "Python 3",
   "language": "python",
   "name": "python3"
  },
  "language_info": {
   "codemirror_mode": {
    "name": "ipython",
    "version": 3
   },
   "file_extension": ".py",
   "mimetype": "text/x-python",
   "name": "python",
   "nbconvert_exporter": "python",
   "pygments_lexer": "ipython3",
   "version": "3.6.4"
  }
 },
 "nbformat": 4,
 "nbformat_minor": 2
}
