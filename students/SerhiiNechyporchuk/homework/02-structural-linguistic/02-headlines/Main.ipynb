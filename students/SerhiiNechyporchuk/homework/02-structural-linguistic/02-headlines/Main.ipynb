{
 "cells": [
  {
   "cell_type": "code",
   "execution_count": 42,
   "metadata": {},
   "outputs": [],
   "source": [
    "import spacy\n",
    "from spacy import displacy\n",
    "import spacy.symbols as ss\n",
    "import en_core_web_lg\n",
    "import pandas as pd\n",
    "import csv\n",
    "pd.set_option('display.max_colwidth', 300)"
   ]
  },
  {
   "cell_type": "code",
   "execution_count": 2,
   "metadata": {},
   "outputs": [],
   "source": [
    "nlp = en_core_web_lg.load()"
   ]
  },
  {
   "cell_type": "code",
   "execution_count": 3,
   "metadata": {},
   "outputs": [],
   "source": [
    "df = pd.read_table(\"../../../../../tasks/02-structural-linguistics/examiner-headlines.txt\", names=['title'])"
   ]
  },
  {
   "cell_type": "code",
   "execution_count": 18,
   "metadata": {},
   "outputs": [],
   "source": [
    "def reformat_title(title):\n",
    "    arr = list(title)\n",
    "    doc = nlp(title)\n",
    "    for token in doc:\n",
    "        if token.text == \"n't\":\n",
    "            continue\n",
    "        if token.pos in (ss.NOUN, ss.PROPN, ss.VERB, ss.ADJ, ss.ADV):\n",
    "            arr[token.idx] = arr[token.idx].upper()\n",
    "        elif token.pos == ss.ADP and token.dep != ss.prep: # filter out cconj\n",
    "            arr[token.idx] = arr[token.idx].upper()\n",
    "        else:\n",
    "            arr[token.idx] = arr[token.idx].lower()\n",
    "    arr[0] = arr[0].upper()\n",
    "    arr[doc[-1].idx] = arr[doc[-1].idx].upper()\n",
    "    return ''.join(arr)"
   ]
  },
  {
   "cell_type": "code",
   "execution_count": 29,
   "metadata": {
    "scrolled": true
   },
   "outputs": [],
   "source": [
    "df = df.assign(formatted = df['title'].apply(reformat_title))"
   ]
  },
  {
   "cell_type": "code",
   "execution_count": 33,
   "metadata": {},
   "outputs": [
    {
     "data": {
      "text/plain": [
       "634"
      ]
     },
     "execution_count": 33,
     "metadata": {},
     "output_type": "execute_result"
    }
   ],
   "source": [
    "(df['title'] == df['formatted']).sum()"
   ]
  },
  {
   "cell_type": "code",
   "execution_count": 48,
   "metadata": {},
   "outputs": [],
   "source": [
    "df[['formatted']].to_csv('formatted-headlines.txt', header=False, index=False, quoting=csv.QUOTE_NONE, sep='\\t')"
   ]
  },
  {
   "cell_type": "code",
   "execution_count": null,
   "metadata": {},
   "outputs": [],
   "source": []
  }
 ],
 "metadata": {
  "kernelspec": {
   "display_name": "Python 3",
   "language": "python",
   "name": "python3"
  },
  "language_info": {
   "codemirror_mode": {
    "name": "ipython",
    "version": 3
   },
   "file_extension": ".py",
   "mimetype": "text/x-python",
   "name": "python",
   "nbconvert_exporter": "python",
   "pygments_lexer": "ipython3",
   "version": "3.6.0"
  }
 },
 "nbformat": 4,
 "nbformat_minor": 2
}
