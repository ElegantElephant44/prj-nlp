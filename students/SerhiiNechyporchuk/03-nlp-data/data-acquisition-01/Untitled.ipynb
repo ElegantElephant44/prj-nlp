{
 "cells": [
  {
   "cell_type": "code",
   "execution_count": 85,
   "metadata": {},
   "outputs": [],
   "source": [
    "import bz2\n",
    "import xml.sax as sax\n",
    "import xml.etree.cElementTree as ET\n",
    "import itertools as it\n",
    "import re"
   ]
  },
  {
   "cell_type": "code",
   "execution_count": 31,
   "metadata": {},
   "outputs": [],
   "source": [
    "FILE_BZ = 'fiwiktionary-20180301-pages-articles-multistream.xml.bz2'\n",
    "FILE = 'fiwiktionary-20180301-pages-articles-multistream.xml'\n",
    "NS = '{http://www.mediawiki.org/xml/export-0.10/}'"
   ]
  },
  {
   "cell_type": "code",
   "execution_count": 32,
   "metadata": {},
   "outputs": [],
   "source": [
    "def tag(tag_name):\n",
    "    return NS + tag_name"
   ]
  },
  {
   "cell_type": "code",
   "execution_count": 61,
   "metadata": {},
   "outputs": [],
   "source": [
    "def text(elem):\n",
    "    return \"\".join(elem.itertext())\n",
    "    "
   ]
  },
  {
   "cell_type": "code",
   "execution_count": 73,
   "metadata": {},
   "outputs": [],
   "source": [
    "SYNONYM_LABEL = '=====Synonyymit====='"
   ]
  },
  {
   "cell_type": "code",
   "execution_count": 105,
   "metadata": {},
   "outputs": [
    {
     "name": "stdout",
     "output_type": "stream",
     "text": [
      "haarukka\n",
      "[\"* ''(murteellinen)'' [[kahveli]]\"]\n",
      "Suomi\n",
      "['*{{vanha}} [[Suomenmaa]]', '*{{kuva}} [[Tuhansien järvien maa]]', '*{{arkikieli}} [[Kekkoslovakia]]', '*{{halventava}} [[Kieltola]]', '*{{halventava}} [[Hölmölä]]', '*{{halventava}} [[Byroslavia]]']\n"
     ]
    },
    {
     "data": {
      "text/plain": [
       "{'Suomi': [], 'haarukka': []}"
      ]
     },
     "execution_count": 105,
     "metadata": {},
     "output_type": "execute_result"
    }
   ],
   "source": [
    "def extract_synonyms(txt):\n",
    "    syns_l = it.dropwhile(lambda l: l != SYNONYM_LABEL, txt.split('\\n'))\n",
    "    syns_l = list(syns_l)[1:]\n",
    "    syns_l = it.takewhile(lambda l: l.startswith('*'), syns_l)\n",
    "    print(list(syns_l))\n",
    "    syns_l = map(lambda l: re.sub(r\"''\\(\\w+\\)''\", '', l), syns_l)\n",
    "    syns_l = [t for l in syns_l for t in l.split(' ')[2:]]\n",
    "    syns_l = [re.sub(r\"\\[\\[|\\]\\]\", '', t) for t in syns_l]\n",
    "    return list(syns_l)\n",
    "\n",
    "all_syns = {}\n",
    "    \n",
    "for event, elem in ET.iterparse(bz2.open(FILE_BZ), events=['end']):\n",
    "    if event == 'end':\n",
    "        if elem.tag == tag('page'):\n",
    "            ns_el = elem.find(tag('ns'))\n",
    "            if text(ns_el) == '0':\n",
    "                title_el = elem.find(tag('title'))\n",
    "                title = text(title_el)\n",
    "                print(title)\n",
    "                revision_el = elem.find(tag('revision'))\n",
    "                text_el = revision_el.find(tag('text'))\n",
    "                txt = text(text_el)\n",
    "                syns = extract_synonyms(txt)\n",
    "                all_syns[title] = syns\n",
    "                if len(all_syns) == 2:\n",
    "                    break\n",
    "all_syns"
   ]
  },
  {
   "cell_type": "code",
   "execution_count": 103,
   "metadata": {},
   "outputs": [
    {
     "data": {
      "text/plain": [
       "86568"
      ]
     },
     "execution_count": 103,
     "metadata": {},
     "output_type": "execute_result"
    }
   ],
   "source": [
    "len(all_syns)"
   ]
  },
  {
   "cell_type": "code",
   "execution_count": null,
   "metadata": {},
   "outputs": [],
   "source": []
  }
 ],
 "metadata": {
  "kernelspec": {
   "display_name": "Python 3",
   "language": "python",
   "name": "python3"
  },
  "language_info": {
   "codemirror_mode": {
    "name": "ipython",
    "version": 3
   },
   "file_extension": ".py",
   "mimetype": "text/x-python",
   "name": "python",
   "nbconvert_exporter": "python",
   "pygments_lexer": "ipython3",
   "version": "3.6.0"
  }
 },
 "nbformat": 4,
 "nbformat_minor": 2
}
