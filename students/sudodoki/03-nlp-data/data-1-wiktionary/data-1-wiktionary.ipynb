{
 "cells": [
  {
   "cell_type": "markdown",
   "metadata": {},
   "source": [
    "1. Process Wiktionary dump to extract synonym relations for a random language (not English, Ukrainian or Russian :) - requires application of XML SAX parsing"
   ]
  },
  {
   "cell_type": "code",
   "execution_count": 1,
   "metadata": {},
   "outputs": [
    {
     "name": "stdout",
     "output_type": "stream",
     "text": [
      "--2018-03-19 10:42:11--  https://dumps.wikimedia.org/bgwiktionary/20180301/bgwiktionary-20180301-pages-articles-multistream.xml.bz2\n",
      "Resolving dumps.wikimedia.org (dumps.wikimedia.org)... 208.80.154.11\n",
      "Connecting to dumps.wikimedia.org (dumps.wikimedia.org)|208.80.154.11|:443... connected.\n",
      "HTTP request sent, awaiting response... 200 OK\n",
      "Length: 42317925 (40M) [application/octet-stream]\n",
      "Saving to: ‘wiktionary.xml.bz2’\n",
      "\n",
      "wiktionary.xml.bz2  100%[===================>]  40.36M  2.33MB/s    in 32s     \n",
      "\n",
      "2018-03-19 10:42:44 (1.25 MB/s) - ‘wiktionary.xml.bz2’ saved [42317925/42317925]\n",
      "\n"
     ]
    }
   ],
   "source": [
    "!wget -O wiktionary.xml.bz2 https://dumps.wikimedia.org/bgwiktionary/20180301/bgwiktionary-20180301-pages-articles-multistream.xml.bz2 "
   ]
  },
  {
   "cell_type": "code",
   "execution_count": 2,
   "metadata": {},
   "outputs": [],
   "source": [
    "from lxml import etree\n",
    "import bz2\n",
    "import re"
   ]
  },
  {
   "cell_type": "code",
   "execution_count": 3,
   "metadata": {},
   "outputs": [],
   "source": [
    "# Exploration - printing first 100 lines\n",
    "# i = 0;\n",
    "# input_file = bz2.open(\"wiktionary.xml.bz2\")\n",
    "# while (i < 100):\n",
    "#     i += 1\n",
    "#     print(input_file.readline().decode('utf-8'))\n",
    "# Exploration - printing 200 lines after <ns> element\n",
    "# i = 0;\n",
    "# last_print = 0\n",
    "# printF = False\n",
    "# file = bz2.open(\"wiktionary.xml.bz2\")\n",
    "# while (i < 3000):\n",
    "#     line = file.readline().decode('utf-8')\n",
    "#     if line.strip() in ['<ns>0</ns>']: #,'<ns>-1</ns>', , '<ns>4</ns>', '<ns>14</ns>']:\n",
    "#         printF = True\n",
    "#         last_print = i\n",
    "#     if printF:\n",
    "#         i += 1\n",
    "#         print(line)\n",
    "#         if (i - last_print) > 200:\n",
    "#             printF = False"
   ]
  },
  {
   "cell_type": "code",
   "execution_count": 34,
   "metadata": {},
   "outputs": [],
   "source": [
    "header_re = re.compile(r\"===\\s*Синоними\\s*===\", re.M | re.UNICODE)\n",
    "extra_re = re.compile(r\"'''Синоними:?'''\", re.M | re.UNICODE)\n",
    "bullets_re = re.compile(r\"^\\s*\\*\", re.M | re.UNICODE)\n",
    "content_re = re.compile(r\"\\[\\[?([\\w\\-\\s\\(\\),':]*)\\]?\\]?\", re.M | re.UNICODE)\n",
    "extra_keys_re = re.compile(r\"[А-Я ]+\\s*=[\\s\\n]*\", re.M | re.UNICODE)\n",
    "def cleanup_syns_list(raw_string):\n",
    "    raw_string = re.sub(header_re, \"\", raw_string)\n",
    "    raw_string = re.sub(extra_re, \"\", raw_string)\n",
    "    raw_string = re.sub(bullets_re, \", \", raw_string)\n",
    "    raw_string = re.sub(content_re, r'\\1', raw_string)\n",
    "    raw_string = re.sub(extra_keys_re, \"\", raw_string)\n",
    "    return re.sub(r\"\\s+,\\s+\", \", \", \" \".join(raw_string.split(\"\\n\")).strip(\", \"))\n",
    "\n",
    "word_re = re.compile(r\"ID\\s+=\\s+(\\w+)\", re.M | re.UNICODE)\n",
    "syns_re = re.compile(r\"\\| (?:СИНОНИМИ|СРОДНИ\\s+ДУМИ|ДРУГИ) = ([^\\|\\}]+)\", re.M | re.UNICODE | re.I)\n",
    "syns_list_re = re.compile(r\"===\\s*Синоними\\s*===\\n(\\s*\\*[^\\n]*\\n)*\", re.M | re.UNICODE | re.I)\n",
    "def extract_word_and_syns(raw_text):\n",
    "    result = word_re.search(text)\n",
    "    word = result and result.group(1)\n",
    "    syns = None\n",
    "    if word:\n",
    "        if \"СИНОНИМИ\" in text or \"СРОДНИ ДУМИ\" in text or \"ДРУГИ\" in text:\n",
    "            result = syns_re.search(text)\n",
    "            if (result and result.group(1).strip()):\n",
    "                syns = cleanup_syns_list(result.group(1).strip())\n",
    "        if \"Синоними\" in text:\n",
    "            result = syns_list_re.search(text)\n",
    "            if result and result.group(0).strip():\n",
    "                syns = cleanup_syns_list(result.group(0).strip())\n",
    "    return (word, syns)"
   ]
  },
  {
   "cell_type": "code",
   "execution_count": 36,
   "metadata": {
    "scrolled": true
   },
   "outputs": [],
   "source": [
    "waiting_ns = False\n",
    "waiting_text = False\n",
    "text = ''\n",
    "title = None\n",
    "with open('bg_wiktionary_syns.txt', 'w') as output_file:\n",
    "    for (event, elem) in etree.iterparse(bz2.open(\"wiktionary.xml.bz2\"), events=['start', 'end']):\n",
    "        if (event == 'start' and elem.tag[-4:] == 'page'):\n",
    "            waiting_ns = True\n",
    "            continue\n",
    "        if (event == 'end' and elem.tag[-4:] == 'page'):\n",
    "            waiting_ns = False\n",
    "            waiting_text = False\n",
    "            title = None\n",
    "            continue\n",
    "        if (event == 'end' and waiting_ns and elem.tag[-5:] == 'title'):\n",
    "            title = elem.text\n",
    "            continue\n",
    "        if (waiting_ns and event == 'end' and 'ns' == elem.tag[-2:]):\n",
    "            if elem.text.strip() == '0':\n",
    "                waiting_text = True\n",
    "            continue\n",
    "        if (waiting_text and event == 'end' and 'text' == elem.tag[-4:]):\n",
    "            text = elem.text\n",
    "            if not text:\n",
    "                continue\n",
    "            (word, syns) = extract_word_and_syns(text)\n",
    "            if not syns:\n",
    "                continue\n",
    "            output_file.write(\"{} (https://bg.wiktionary.org/wiki/{}): {}\\n\".format(word, title, syns))\n",
    "            continue"
   ]
  },
  {
   "cell_type": "code",
   "execution_count": 39,
   "metadata": {},
   "outputs": [
    {
     "name": "stdout",
     "output_type": "stream",
     "text": [
      "('боб', 'фасул')\n"
     ]
    }
   ],
   "source": [
    "text = \"\"\"\n",
    "{{-bg-}}\n",
    "{{Съществително нарицателно име|\n",
    "  ID = боб\n",
    "| ЗНАЧЕНИЕ =\n",
    "# Растение и плода на това растение.\n",
    "| РОД = м\n",
    "| ТИП = 1\n",
    "| ЕТИМОЛОГИЯ = \n",
    "| ИЗРАЗИ = \n",
    "Купих  боб , ще направя бобена чорба. \n",
    "Засях боб в градината. \n",
    "| ПРЕВОД1 =\n",
    "* английски: [[bean]] (Едно зърно.) , [[:en:bean|(en)]][[beans]] [[:en:beans|(en)]]\n",
    "* арабски: [[ ‏فَاصُولِيَا (faʂúːliya) , ‏لُوبِيَا (láːbiya)]] [[:ar:فَاصُولِيَا|(ar)]]\n",
    "* арменски: [[]] \n",
    "* африкаанс: [[]] [[:af:|(af)]]\n",
    "* белоруски: [[]] [[:be:|(be)]]\n",
    "* гръцки: [[φασόλι (фасоли)]] [[:el:φασόλι|(el)]]\n",
    "* датски: [[ bønne ]](ед) [[:da:bønne|(da)]],[[bønner pl]](мн.)  [[:da:bønner|(da)]]\n",
    "* есперанто: [[fabo]] [[:eo:fabo|(eo)]]\n",
    "* естонски: [[]] [[:et:|(et)]]\n",
    "* иврит: [[שעועית (še'u'ít)]] \n",
    "* индонезийски: [[]]\n",
    "* ирландски: [[]] \n",
    "* исландски: [[]] \n",
    "* испански: [[haba]] [[:es:haba|(es)]] ,[[frijol]] [[:es:frijol|(es)]]\n",
    "* италиански: [[fagiolo]] [[:it:fagiolo|(it)]]\n",
    "* китайски: [[]] [[:zh:|(zh)]]\n",
    "* корейски: [[콩 (kong)]] [[:ko:|(ko)]]\n",
    "* латвийски: [[]] [[:lv:|(lv)]]\n",
    "* латински: [[]] [[:la:|(la)]]\n",
    "* литовски: [[]] [[:lt:|(lt)]]\n",
    "| ПРЕВОД2 =\n",
    "* немски:  [[Bohne]] [[:de:Bohne|(de)]], [[Bohnen]] (мн.)[[:de:Bohnen|(de)]]\n",
    "* норвежки: [[bønne]] [[:no:bønne|(no)]]\n",
    "* персийски: [[لوبیا (lubiyā), باقالا (bāγālā)]] [[:fa:لوبیا |(fa)]]\n",
    "* полски: [[fasola]] [[:pl:fasola|(pl)]]\n",
    "* португалски: [[feijão]] [[:pt:feijão|(pt)]]\n",
    "* румънски: [[fasolea]] [[:ro:fasolea|(ro)]], [[bob]] [[:ro:bob| (ro)]]\n",
    "* руски:  [[боб]] [[:ru:боб|(ru)]] ,[[бобы ]](мн.) [[:ru:бобы |(ru)]] ,[[фасоль]][[:ru:фасоль|(ru)]] ,[[фасоли]](мн.) [[:ru:фасоли|(ru)]]\n",
    "* словашки: [[fazul’a]] [[:sk:fazul’a|(sk)]]\n",
    "* словенски:[[]] [[:sl:|(sl)]]\n",
    "* сръбски: [[пасуљ]] [[:sr:пасуљ|(sr)]]\n",
    "* тайландски: [[ถั่ว (thuàà)]] [[:th:ถั่ว|(th)]]\n",
    "* турски: [[fasulye]] [[:tr:fasulye|(tr)]]\n",
    "* унгарски: [[bab, paszuly]] [[:hu:bab|(hu)]]\n",
    "* фински: [[papu]] [[:fi:papu|(fi)]]\n",
    "* френски: [[haricot]] [[:fr:haricot|(fr)]]\n",
    "* холандски: [[boon]] [[:nl:boon|(nl)]]\n",
    "* хърватски: [[pasulj]] [[:hr:pasulj|(hr)]]\n",
    "* чешки: [[fazole]] [[:cs:fazole|(cs)]]\n",
    "* шведски: [[böna]] [[:sv:böna|(sv)]] , [[bönor]](мн.) [[:sv:bönor|(sv)]] \n",
    "* японски: [[豆 (まめ, mamé)]] [[:ja:|(ja)]]\n",
    "| СИНОНИМИ = [[фасул]]\n",
    "| СРОДНИ ДУМИ = \n",
    "| ПРОИЗВОДНИ ДУМИ = \n",
    "| ДРУГИ = \n",
    "}}\n",
    "\n",
    "\"\"\"\n",
    "print(extract_word_and_syns(text))"
   ]
  },
  {
   "cell_type": "code",
   "execution_count": 38,
   "metadata": {},
   "outputs": [
    {
     "data": {
      "text/plain": [
       "('чифут', '')"
      ]
     },
     "execution_count": 38,
     "metadata": {},
     "output_type": "execute_result"
    }
   ],
   "source": [
    "text = \"\"\"\n",
    "{{-bg-}}\n",
    "{{Съществително нарицателно име|\n",
    "  ID = чифут\n",
    "| ЗНАЧЕНИЕ =\n",
    "# Синоним на \"[[евреин]]\". От албански.\n",
    "| РОД = \n",
    "| ТИП = \n",
    "| СРИЧКИ = \n",
    "| ЕТИМОЛОГИЯ = от албански \n",
    "| ИЗРАЗИ = \n",
    "| ПРЕВОД1 = \n",
    "* руски: \n",
    "* албански: | ПРЕВОД2 =\n",
    "| СИНОНИМИ = '''Синоними'''| СРОДНИ ДУМИ = ПРОИЗВОДНИ ДУМИ = \n",
    "| ДРУГИ = се среща на [[w:Балкани|Балканите]] [[w:турци|турци]] &mdash; в разказа на [[w:хървати|хърватския]] писател от [[w:Бачка|Бачка]] на  [[w:Павле Башич-Палкович|Павле Башич-Палкович]].\n",
    "\n",
    "В легендите \"[http://liternet.bg/folklor/sbornici/senki/128.htm Цар Константин намира кръста Христов]\" и \"[http://liternet.bg/folklor/sbornici/senki/115.htm Възкресение Христово]\" са използвани производни на думата \"чифут\".\n",
    "}}\n",
    "\n",
    "\"\"\"\n",
    "extract_word_and_syns(text)"
   ]
  },
  {
   "cell_type": "code",
   "execution_count": null,
   "metadata": {},
   "outputs": [],
   "source": []
  }
 ],
 "metadata": {
  "kernelspec": {
   "display_name": "Python 3",
   "language": "python",
   "name": "python3"
  },
  "language_info": {
   "codemirror_mode": {
    "name": "ipython",
    "version": 3
   },
   "file_extension": ".py",
   "mimetype": "text/x-python",
   "name": "python",
   "nbconvert_exporter": "python",
   "pygments_lexer": "ipython3",
   "version": "3.6.4"
  }
 },
 "nbformat": 4,
 "nbformat_minor": 2
}
