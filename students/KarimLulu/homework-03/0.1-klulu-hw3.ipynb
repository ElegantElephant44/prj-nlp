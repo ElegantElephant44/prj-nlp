{
 "cells": [
  {
   "cell_type": "markdown",
   "metadata": {},
   "source": [
    "#### Web Scrapping"
   ]
  },
  {
   "cell_type": "code",
   "execution_count": 1,
   "metadata": {},
   "outputs": [],
   "source": [
    "import scrapy"
   ]
  },
  {
   "cell_type": "code",
   "execution_count": 10,
   "metadata": {},
   "outputs": [],
   "source": [
    "import scrapy\n",
    "\n",
    "class ForumSpider(scrapy.Spider):\n",
    "    name = \"posts\"\n",
    "    topic = \"vidatni-lvivjani.69\"\n",
    "    base_url = 'http://http://forum.lvivport.com/forums'\n",
    "    start_urls = ['{}/{}/'.format(base_url, topic)]"
   ]
  },
  {
   "cell_type": "code",
   "execution_count": 14,
   "metadata": {},
   "outputs": [
    {
     "data": {
      "text/plain": [
       "'http://forum.lvivport.com/forums/vidatni-lvivjani.69'"
      ]
     },
     "execution_count": 14,
     "metadata": {},
     "output_type": "execute_result"
    }
   ],
   "source": [
    "import urllib.parse\n",
    "topic = \"vidatni-lvivjani.69\"\n",
    "base_url = 'http://forum.lvivport.com/forums/'\n",
    "urllib.parse.urljoin(base_url, topic)"
   ]
  },
  {
   "cell_type": "code",
   "execution_count": 1,
   "metadata": {},
   "outputs": [],
   "source": [
    "import re"
   ]
  },
  {
   "cell_type": "code",
   "execution_count": 106,
   "metadata": {},
   "outputs": [],
   "source": [
    "s = \"\"\"| СИНОНИМИ = [[rt]]\n",
    "| СРОДНИ ДУМИ = [[конфронтирам]]\n",
    "| ПРОИЗВОДНИ ДУМИ = \n",
    "| ДРУГИ = \"\"\""
   ]
  },
  {
   "cell_type": "code",
   "execution_count": 107,
   "metadata": {},
   "outputs": [
    {
     "data": {
      "text/plain": [
       "['rt']"
      ]
     },
     "execution_count": 107,
     "metadata": {},
     "output_type": "execute_result"
    }
   ],
   "source": [
    "patt = r\"(?:СИНОНИМИ =\\s+([^|]*))\"\n",
    "match = re.search(patt, s, re.M)\n",
    "raw_syn = match.group(1)\n",
    "re.findall(r\"\\[\\[(.*?)\\]\\]\", raw_syn, re.M)"
   ]
  },
  {
   "cell_type": "code",
   "execution_count": 58,
   "metadata": {},
   "outputs": [],
   "source": [
    "from SPARQLWrapper import SPARQLWrapper, TSV, CSV\n",
    "\n",
    "sparql = SPARQLWrapper(\"http://dbpedia.org/sparql\")\n",
    "query = \"\"\"\n",
    "PREFIX dbo: <http://dbpedia.org/ontology/>\n",
    "PREFIX foaf:  <http://xmlns.com/foaf/0.1/>\n",
    "\n",
    "SELECT count(*)\n",
    "WHERE\n",
    "{\n",
    "   ?person a dbo:Person .\n",
    "}\n",
    "\n",
    "\"\"\"\n",
    "sparql.setQuery(query)\n",
    "sparql.setReturnFormat(CSV)\n",
    "results = sparql.query().convert()"
   ]
  },
  {
   "cell_type": "code",
   "execution_count": 61,
   "metadata": {},
   "outputs": [],
   "source": [
    "import warc"
   ]
  },
  {
   "cell_type": "code",
   "execution_count": 64,
   "metadata": {},
   "outputs": [],
   "source": [
    "import urllib.parse"
   ]
  },
  {
   "cell_type": "code",
   "execution_count": 70,
   "metadata": {},
   "outputs": [],
   "source": [
    "p = urllib.parse.urlparse(\"http://012122.net/www_012122_com/www_41235_com_wangyouduizhi19Ezanbujuekoujiehezhongguozhishengji60_513.html\")"
   ]
  },
  {
   "cell_type": "code",
   "execution_count": 71,
   "metadata": {},
   "outputs": [
    {
     "data": {
      "text/plain": [
       "'012122.net'"
      ]
     },
     "execution_count": 71,
     "metadata": {},
     "output_type": "execute_result"
    }
   ],
   "source": [
    "p.netloc"
   ]
  }
 ],
 "metadata": {
  "kernelspec": {
   "display_name": "Python 3",
   "language": "python",
   "name": "python3"
  },
  "language_info": {
   "codemirror_mode": {
    "name": "ipython",
    "version": 3
   },
   "file_extension": ".py",
   "mimetype": "text/x-python",
   "name": "python",
   "nbconvert_exporter": "python",
   "pygments_lexer": "ipython3",
   "version": "3.6.3"
  }
 },
 "nbformat": 4,
 "nbformat_minor": 2
}
