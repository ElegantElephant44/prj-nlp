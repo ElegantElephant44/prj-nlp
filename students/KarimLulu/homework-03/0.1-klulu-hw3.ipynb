{
 "cells": [
  {
   "cell_type": "markdown",
   "metadata": {},
   "source": [
    "#### Web Scrapping"
   ]
  },
  {
   "cell_type": "code",
   "execution_count": 1,
   "metadata": {},
   "outputs": [],
   "source": [
    "import scrapy"
   ]
  },
  {
   "cell_type": "code",
   "execution_count": 10,
   "metadata": {},
   "outputs": [],
   "source": [
    "import scrapy\n",
    "\n",
    "class ForumSpider(scrapy.Spider):\n",
    "    name = \"posts\"\n",
    "    topic = \"vidatni-lvivjani.69\"\n",
    "    base_url = 'http://http://forum.lvivport.com/forums'\n",
    "    start_urls = ['{}/{}/'.format(base_url, topic)]"
   ]
  },
  {
   "cell_type": "code",
   "execution_count": 14,
   "metadata": {},
   "outputs": [
    {
     "data": {
      "text/plain": [
       "'http://forum.lvivport.com/forums/vidatni-lvivjani.69'"
      ]
     },
     "execution_count": 14,
     "metadata": {},
     "output_type": "execute_result"
    }
   ],
   "source": [
    "import urllib.parse\n",
    "topic = \"vidatni-lvivjani.69\"\n",
    "base_url = 'http://forum.lvivport.com/forums/'\n",
    "urllib.parse.urljoin(base_url, topic)"
   ]
  },
  {
   "cell_type": "code",
   "execution_count": 1,
   "metadata": {},
   "outputs": [],
   "source": [
    "import re"
   ]
  },
  {
   "cell_type": "code",
   "execution_count": 106,
   "metadata": {},
   "outputs": [],
   "source": [
    "s = \"\"\"| СИНОНИМИ = [[rt]]\n",
    "| СРОДНИ ДУМИ = [[конфронтирам]]\n",
    "| ПРОИЗВОДНИ ДУМИ = \n",
    "| ДРУГИ = \"\"\""
   ]
  },
  {
   "cell_type": "code",
   "execution_count": 107,
   "metadata": {},
   "outputs": [
    {
     "data": {
      "text/plain": [
       "['rt']"
      ]
     },
     "execution_count": 107,
     "metadata": {},
     "output_type": "execute_result"
    }
   ],
   "source": [
    "patt = r\"(?:СИНОНИМИ =\\s+([^|]*))\"\n",
    "match = re.search(patt, s, re.M)\n",
    "raw_syn = match.group(1)\n",
    "re.findall(r\"\\[\\[(.*?)\\]\\]\", raw_syn, re.M)"
   ]
  }
 ],
 "metadata": {
  "kernelspec": {
   "display_name": "Python 3",
   "language": "python",
   "name": "python3"
  },
  "language_info": {
   "codemirror_mode": {
    "name": "ipython",
    "version": 3
   },
   "file_extension": ".py",
   "mimetype": "text/x-python",
   "name": "python",
   "nbconvert_exporter": "python",
   "pygments_lexer": "ipython3",
   "version": "3.6.3"
  }
 },
 "nbformat": 4,
 "nbformat_minor": 2
}
